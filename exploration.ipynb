{
 "cells": [
  {
   "cell_type": "markdown",
   "metadata": {},
   "source": [
    "# Name Homogenizer\n",
    "\n",
    "We have two csv files to start with. One contains information about cocoa producers contained in a pdf released by the govenrmnet of Ivory Coast. The other contains information about cocoa producers collected from large cocoa importers (e.g. Ferrero, Olam, Nestle, ...). In order to merge the datasets, we need to find all possible row combinations between the CSVs which describe the same entity. <br>\n",
    "\n",
    "This project aims to fulfill this using LLMs to classify which name pairs are describing the same entity starting with just their text. Each method tested is benchmarked against a hand annotated dataset of __ examples.  "
   ]
  },
  {
   "cell_type": "code",
   "execution_count": 1,
   "metadata": {},
   "outputs": [],
   "source": [
    "import pandas as pd\n",
    "import matplotlib.pyplot as plt\n",
    "import seaborn as sns"
   ]
  },
  {
   "cell_type": "code",
   "execution_count": 2,
   "metadata": {},
   "outputs": [],
   "source": [
    "# Read CSV files into DataFrames\n",
    "producers_1 = pd.read_csv('data/raw/ivorian-cocoa-coop-registry-2017.csv')\n",
    "producers_2 = pd.read_csv('data/raw/cocoa-suppliers-compiled-from-importers.csv')"
   ]
  },
  {
   "cell_type": "markdown",
   "metadata": {},
   "source": [
    "## Quick Look at Raw Data"
   ]
  },
  {
   "cell_type": "code",
   "execution_count": 3,
   "metadata": {
    "scrolled": true
   },
   "outputs": [
    {
     "data": {
      "text/html": [
       "<div>\n",
       "<style scoped>\n",
       "    .dataframe tbody tr th:only-of-type {\n",
       "        vertical-align: middle;\n",
       "    }\n",
       "\n",
       "    .dataframe tbody tr th {\n",
       "        vertical-align: top;\n",
       "    }\n",
       "\n",
       "    .dataframe thead th {\n",
       "        text-align: right;\n",
       "    }\n",
       "</style>\n",
       "<table border=\"1\" class=\"dataframe\">\n",
       "  <thead>\n",
       "    <tr style=\"text-align: right;\">\n",
       "      <th></th>\n",
       "      <th>Region</th>\n",
       "      <th>District</th>\n",
       "      <th>Producer Name</th>\n",
       "      <th>Abbreviation Name</th>\n",
       "      <th>Activity_Type</th>\n",
       "      <th>President_Name</th>\n",
       "      <th>Contact</th>\n",
       "    </tr>\n",
       "  </thead>\n",
       "  <tbody>\n",
       "    <tr>\n",
       "      <th>0</th>\n",
       "      <td>SUD COMOE</td>\n",
       "      <td>SAN-PEDRO</td>\n",
       "      <td>AFRIKANISCHE UND IVORISCHE NACHHALTIGE KAFFEE\\...</td>\n",
       "      <td>AFRIKA BA</td>\n",
       "      <td>PRODUCTION- COLLECTE-ACHAT- COMMERCIALISATION</td>\n",
       "      <td>KOFFI GERALD</td>\n",
       "      <td>07 72 36 20</td>\n",
       "    </tr>\n",
       "    <tr>\n",
       "      <th>1</th>\n",
       "      <td>SUD COMOE</td>\n",
       "      <td>SAN-PEDRO</td>\n",
       "      <td>AGRICOLE EMERGENCE-PLUS DE SAN PEDRO</td>\n",
       "      <td>AEPSP</td>\n",
       "      <td>PRODUCTION- COLLECTE-ACHAT- COMMERCIALISATION</td>\n",
       "      <td>FADIGA ALY</td>\n",
       "      <td>09 95 48 81</td>\n",
       "    </tr>\n",
       "    <tr>\n",
       "      <th>2</th>\n",
       "      <td>GÔH</td>\n",
       "      <td>GAGNOA</td>\n",
       "      <td>ALLIANCE COOPERATIVE AGRICOLE DE DOUKOUYO</td>\n",
       "      <td>ACAD SCOOPS</td>\n",
       "      <td>PRODUCTION-COLLECTE- COMMERCIALISATION</td>\n",
       "      <td>KONATE BOUKARY</td>\n",
       "      <td>07 07 27 98</td>\n",
       "    </tr>\n",
       "    <tr>\n",
       "      <th>3</th>\n",
       "      <td>AGNEBY- TIASSA</td>\n",
       "      <td>AGBOVILLE</td>\n",
       "      <td>ALLIANCE DE DEVELOPPEMENT AGRO-PASTORAL DE L’A...</td>\n",
       "      <td>ADAPA SCOOPS</td>\n",
       "      <td>PRESTATION- COLLECTE- COMMERCIALISATION</td>\n",
       "      <td>KOUAME ABISSI RAYMOND</td>\n",
       "      <td>49 07 06 87\\n49 18 55 00\\n48 41 25 13\\n08 65 6...</td>\n",
       "    </tr>\n",
       "    <tr>\n",
       "      <th>4</th>\n",
       "      <td>GÔH</td>\n",
       "      <td>GAGNOA</td>\n",
       "      <td>ASSOCIATION COOPERATIVE AGRICOLE DU FROMAGER</td>\n",
       "      <td>SCOOPS ASCOOPAF</td>\n",
       "      <td>PRODUCTION-COLLECTE- COMMERCIALISATION</td>\n",
       "      <td>DAH OMBITE</td>\n",
       "      <td>07 75 91 89\\n44 56 96 96</td>\n",
       "    </tr>\n",
       "    <tr>\n",
       "      <th>...</th>\n",
       "      <td>...</td>\n",
       "      <td>...</td>\n",
       "      <td>...</td>\n",
       "      <td>...</td>\n",
       "      <td>...</td>\n",
       "      <td>...</td>\n",
       "      <td>...</td>\n",
       "    </tr>\n",
       "    <tr>\n",
       "      <th>3126</th>\n",
       "      <td>NaN</td>\n",
       "      <td>SEGUELA</td>\n",
       "      <td>SOCIETE COOPERATIVE IVOIRIENNE D’EXPLOITATION ...</td>\n",
       "      <td>COOP-CA ENTRAIDE</td>\n",
       "      <td>PRODUCTION-COLLECTE- COMMERCIALISATION</td>\n",
       "      <td>KABRE ALI</td>\n",
       "      <td>49 07 21 18</td>\n",
       "    </tr>\n",
       "    <tr>\n",
       "      <th>3127</th>\n",
       "      <td>NaN</td>\n",
       "      <td>SEGUELA</td>\n",
       "      <td>SOCIETE COOPERATIVE YEBE DE SEGUELA</td>\n",
       "      <td>SCOOPS WINPAS</td>\n",
       "      <td>PRODUCTION- COLLECTE-ACHAT- COMMERCIALISATION</td>\n",
       "      <td>TOUGMA IGNACE</td>\n",
       "      <td>08 14 48 43\\n45 53 44 55</td>\n",
       "    </tr>\n",
       "    <tr>\n",
       "      <th>3128</th>\n",
       "      <td>NaN</td>\n",
       "      <td>SEGUELA</td>\n",
       "      <td>SOCIETE COOPERATIVE WORODOUGOUKA</td>\n",
       "      <td>COOPEXPORT COOP-CA</td>\n",
       "      <td>PRODUCTION-COLLECTE- COMMERCIALISATION</td>\n",
       "      <td>KOUADIO KONAN MARCEL</td>\n",
       "      <td>08 01 06 03</td>\n",
       "    </tr>\n",
       "    <tr>\n",
       "      <th>3129</th>\n",
       "      <td>NaN</td>\n",
       "      <td>NaN</td>\n",
       "      <td>NaN</td>\n",
       "      <td>SOCAYS SCOOPS</td>\n",
       "      <td>PRODUCTION-COLLECTE- COMMERCIALISATION</td>\n",
       "      <td>KONE ZANA ALI</td>\n",
       "      <td>48 61 36 24\\n46 65 61 92</td>\n",
       "    </tr>\n",
       "    <tr>\n",
       "      <th>3130</th>\n",
       "      <td>NaN</td>\n",
       "      <td>NaN</td>\n",
       "      <td>NaN</td>\n",
       "      <td>SCWS COOP-CA</td>\n",
       "      <td>PRODUCTION- COLLECTE-STOCKAGE- COMMERCIALISATION</td>\n",
       "      <td>BAKAYOKO ALIMATA</td>\n",
       "      <td>07 82 52 48\\n02 25 44 85</td>\n",
       "    </tr>\n",
       "  </tbody>\n",
       "</table>\n",
       "<p>3131 rows × 7 columns</p>\n",
       "</div>"
      ],
      "text/plain": [
       "              Region   District  \\\n",
       "0          SUD COMOE  SAN-PEDRO   \n",
       "1          SUD COMOE  SAN-PEDRO   \n",
       "2                GÔH     GAGNOA   \n",
       "3     AGNEBY- TIASSA  AGBOVILLE   \n",
       "4                GÔH     GAGNOA   \n",
       "...              ...        ...   \n",
       "3126             NaN    SEGUELA   \n",
       "3127             NaN    SEGUELA   \n",
       "3128             NaN    SEGUELA   \n",
       "3129             NaN        NaN   \n",
       "3130             NaN        NaN   \n",
       "\n",
       "                                          Producer Name   Abbreviation Name  \\\n",
       "0     AFRIKANISCHE UND IVORISCHE NACHHALTIGE KAFFEE\\...           AFRIKA BA   \n",
       "1                  AGRICOLE EMERGENCE-PLUS DE SAN PEDRO               AEPSP   \n",
       "2             ALLIANCE COOPERATIVE AGRICOLE DE DOUKOUYO         ACAD SCOOPS   \n",
       "3     ALLIANCE DE DEVELOPPEMENT AGRO-PASTORAL DE L’A...        ADAPA SCOOPS   \n",
       "4          ASSOCIATION COOPERATIVE AGRICOLE DU FROMAGER     SCOOPS ASCOOPAF   \n",
       "...                                                 ...                 ...   \n",
       "3126  SOCIETE COOPERATIVE IVOIRIENNE D’EXPLOITATION ...    COOP-CA ENTRAIDE   \n",
       "3127                SOCIETE COOPERATIVE YEBE DE SEGUELA       SCOOPS WINPAS   \n",
       "3128                   SOCIETE COOPERATIVE WORODOUGOUKA  COOPEXPORT COOP-CA   \n",
       "3129                                                NaN       SOCAYS SCOOPS   \n",
       "3130                                                NaN        SCWS COOP-CA   \n",
       "\n",
       "                                         Activity_Type         President_Name  \\\n",
       "0        PRODUCTION- COLLECTE-ACHAT- COMMERCIALISATION           KOFFI GERALD   \n",
       "1        PRODUCTION- COLLECTE-ACHAT- COMMERCIALISATION             FADIGA ALY   \n",
       "2               PRODUCTION-COLLECTE- COMMERCIALISATION         KONATE BOUKARY   \n",
       "3              PRESTATION- COLLECTE- COMMERCIALISATION  KOUAME ABISSI RAYMOND   \n",
       "4               PRODUCTION-COLLECTE- COMMERCIALISATION             DAH OMBITE   \n",
       "...                                                ...                    ...   \n",
       "3126            PRODUCTION-COLLECTE- COMMERCIALISATION              KABRE ALI   \n",
       "3127     PRODUCTION- COLLECTE-ACHAT- COMMERCIALISATION          TOUGMA IGNACE   \n",
       "3128            PRODUCTION-COLLECTE- COMMERCIALISATION   KOUADIO KONAN MARCEL   \n",
       "3129            PRODUCTION-COLLECTE- COMMERCIALISATION          KONE ZANA ALI   \n",
       "3130  PRODUCTION- COLLECTE-STOCKAGE- COMMERCIALISATION       BAKAYOKO ALIMATA   \n",
       "\n",
       "                                                Contact  \n",
       "0                                           07 72 36 20  \n",
       "1                                           09 95 48 81  \n",
       "2                                           07 07 27 98  \n",
       "3     49 07 06 87\\n49 18 55 00\\n48 41 25 13\\n08 65 6...  \n",
       "4                              07 75 91 89\\n44 56 96 96  \n",
       "...                                                 ...  \n",
       "3126                                        49 07 21 18  \n",
       "3127                           08 14 48 43\\n45 53 44 55  \n",
       "3128                                        08 01 06 03  \n",
       "3129                           48 61 36 24\\n46 65 61 92  \n",
       "3130                           07 82 52 48\\n02 25 44 85  \n",
       "\n",
       "[3131 rows x 7 columns]"
      ]
     },
     "execution_count": 3,
     "metadata": {},
     "output_type": "execute_result"
    }
   ],
   "source": [
    "producers_1"
   ]
  },
  {
   "cell_type": "code",
   "execution_count": 4,
   "metadata": {
    "scrolled": true
   },
   "outputs": [
    {
     "data": {
      "text/html": [
       "<div>\n",
       "<style scoped>\n",
       "    .dataframe tbody tr th:only-of-type {\n",
       "        vertical-align: middle;\n",
       "    }\n",
       "\n",
       "    .dataframe tbody tr th {\n",
       "        vertical-align: top;\n",
       "    }\n",
       "\n",
       "    .dataframe thead th {\n",
       "        text-align: right;\n",
       "    }\n",
       "</style>\n",
       "<table border=\"1\" class=\"dataframe\">\n",
       "  <thead>\n",
       "    <tr style=\"text-align: right;\">\n",
       "      <th></th>\n",
       "      <th>Tier 1 Suppliers</th>\n",
       "      <th>Producer Name</th>\n",
       "      <th>Abbreviation Name</th>\n",
       "      <th>Region</th>\n",
       "      <th>Country</th>\n",
       "      <th>Source</th>\n",
       "    </tr>\n",
       "  </thead>\n",
       "  <tbody>\n",
       "    <tr>\n",
       "      <th>0</th>\n",
       "      <td>Barry Callebaut AG</td>\n",
       "      <td>NaN</td>\n",
       "      <td>duekoue nord-bio</td>\n",
       "      <td>NaN</td>\n",
       "      <td>NaN</td>\n",
       "      <td>https://www.nestle.com/sites/default/files/ass...</td>\n",
       "    </tr>\n",
       "    <tr>\n",
       "      <th>1</th>\n",
       "      <td>Barry Callebaut AG</td>\n",
       "      <td>NaN</td>\n",
       "      <td>cabzou coop-ca</td>\n",
       "      <td>NaN</td>\n",
       "      <td>NaN</td>\n",
       "      <td>https://www.nestle.com/sites/default/files/ass...</td>\n",
       "    </tr>\n",
       "    <tr>\n",
       "      <th>2</th>\n",
       "      <td>Barry Callebaut AG</td>\n",
       "      <td>NaN</td>\n",
       "      <td>cexpag coop-ca</td>\n",
       "      <td>NaN</td>\n",
       "      <td>NaN</td>\n",
       "      <td>https://www.nestle.com/sites/default/files/ass...</td>\n",
       "    </tr>\n",
       "    <tr>\n",
       "      <th>3</th>\n",
       "      <td>Barry Callebaut AG</td>\n",
       "      <td>NaN</td>\n",
       "      <td>cootien-ouly</td>\n",
       "      <td>NaN</td>\n",
       "      <td>NaN</td>\n",
       "      <td>https://www.nestle.com/sites/default/files/ass...</td>\n",
       "    </tr>\n",
       "    <tr>\n",
       "      <th>4</th>\n",
       "      <td>Barry Callebaut AG</td>\n",
       "      <td>NaN</td>\n",
       "      <td>coop-ca abo</td>\n",
       "      <td>NaN</td>\n",
       "      <td>NaN</td>\n",
       "      <td>https://www.nestle.com/sites/default/files/ass...</td>\n",
       "    </tr>\n",
       "    <tr>\n",
       "      <th>...</th>\n",
       "      <td>...</td>\n",
       "      <td>...</td>\n",
       "      <td>...</td>\n",
       "      <td>...</td>\n",
       "      <td>...</td>\n",
       "      <td>...</td>\n",
       "    </tr>\n",
       "    <tr>\n",
       "      <th>615</th>\n",
       "      <td>Olam International Limited</td>\n",
       "      <td>Société Coopérative des Producteurs pour la Du...</td>\n",
       "      <td>SOCOPDAL SCOOPS</td>\n",
       "      <td>Lakota</td>\n",
       "      <td>NaN</td>\n",
       "      <td>https://www.olamgroup.com/content/dam/olamgrou...</td>\n",
       "    </tr>\n",
       "    <tr>\n",
       "      <th>616</th>\n",
       "      <td>Olam International Limited</td>\n",
       "      <td>Société Coopérative Agricole Entente de Karié</td>\n",
       "      <td>SOCOPEK</td>\n",
       "      <td>Karie</td>\n",
       "      <td>NaN</td>\n",
       "      <td>https://www.olamgroup.com/content/dam/olamgrou...</td>\n",
       "    </tr>\n",
       "    <tr>\n",
       "      <th>617</th>\n",
       "      <td>Olam International Limited</td>\n",
       "      <td>Société Coopérative Solidarité de Mahino</td>\n",
       "      <td>SOCOSOM-COOP-CA</td>\n",
       "      <td>Mahino</td>\n",
       "      <td>NaN</td>\n",
       "      <td>https://www.olamgroup.com/content/dam/olamgrou...</td>\n",
       "    </tr>\n",
       "    <tr>\n",
       "      <th>618</th>\n",
       "      <td>Olam International Limited</td>\n",
       "      <td>Union des Producteurs Agricoles de San Pedro</td>\n",
       "      <td>UPAS COOP CA</td>\n",
       "      <td>Gagny</td>\n",
       "      <td>NaN</td>\n",
       "      <td>https://www.olamgroup.com/content/dam/olamgrou...</td>\n",
       "    </tr>\n",
       "    <tr>\n",
       "      <th>619</th>\n",
       "      <td>NaN</td>\n",
       "      <td>NaN</td>\n",
       "      <td>NaN</td>\n",
       "      <td>NaN</td>\n",
       "      <td>NaN</td>\n",
       "      <td>https://www.olamgroup.com/content/dam/olamgrou...</td>\n",
       "    </tr>\n",
       "  </tbody>\n",
       "</table>\n",
       "<p>620 rows × 6 columns</p>\n",
       "</div>"
      ],
      "text/plain": [
       "               Tier 1 Suppliers  \\\n",
       "0            Barry Callebaut AG   \n",
       "1            Barry Callebaut AG   \n",
       "2            Barry Callebaut AG   \n",
       "3            Barry Callebaut AG   \n",
       "4            Barry Callebaut AG   \n",
       "..                          ...   \n",
       "615  Olam International Limited   \n",
       "616  Olam International Limited   \n",
       "617  Olam International Limited   \n",
       "618  Olam International Limited   \n",
       "619                         NaN   \n",
       "\n",
       "                                         Producer Name Abbreviation Name  \\\n",
       "0                                                  NaN  duekoue nord-bio   \n",
       "1                                                  NaN    cabzou coop-ca   \n",
       "2                                                  NaN    cexpag coop-ca   \n",
       "3                                                  NaN      cootien-ouly   \n",
       "4                                                  NaN       coop-ca abo   \n",
       "..                                                 ...               ...   \n",
       "615  Société Coopérative des Producteurs pour la Du...   SOCOPDAL SCOOPS   \n",
       "616      Société Coopérative Agricole Entente de Karié           SOCOPEK   \n",
       "617           Société Coopérative Solidarité de Mahino   SOCOSOM-COOP-CA   \n",
       "618       Union des Producteurs Agricoles de San Pedro      UPAS COOP CA   \n",
       "619                                                NaN               NaN   \n",
       "\n",
       "     Region  Country                                             Source  \n",
       "0       NaN      NaN  https://www.nestle.com/sites/default/files/ass...  \n",
       "1       NaN      NaN  https://www.nestle.com/sites/default/files/ass...  \n",
       "2       NaN      NaN  https://www.nestle.com/sites/default/files/ass...  \n",
       "3       NaN      NaN  https://www.nestle.com/sites/default/files/ass...  \n",
       "4       NaN      NaN  https://www.nestle.com/sites/default/files/ass...  \n",
       "..      ...      ...                                                ...  \n",
       "615  Lakota      NaN  https://www.olamgroup.com/content/dam/olamgrou...  \n",
       "616   Karie      NaN  https://www.olamgroup.com/content/dam/olamgrou...  \n",
       "617  Mahino      NaN  https://www.olamgroup.com/content/dam/olamgrou...  \n",
       "618   Gagny      NaN  https://www.olamgroup.com/content/dam/olamgrou...  \n",
       "619     NaN      NaN  https://www.olamgroup.com/content/dam/olamgrou...  \n",
       "\n",
       "[620 rows x 6 columns]"
      ]
     },
     "execution_count": 4,
     "metadata": {},
     "output_type": "execute_result"
    }
   ],
   "source": [
    "producers_2"
   ]
  },
  {
   "cell_type": "markdown",
   "metadata": {},
   "source": [
    "## Missingness"
   ]
  },
  {
   "cell_type": "code",
   "execution_count": 5,
   "metadata": {},
   "outputs": [
    {
     "name": "stdout",
     "output_type": "stream",
     "text": [
      "producers 1: (3131, 7)\n",
      "producers 2: (620, 6)\n"
     ]
    },
    {
     "data": {
      "image/png": "[encoded data removed]",
      "text/plain": [
       "<Figure size 720x432 with 1 Axes>"
      ]
     },
     "metadata": {
      "needs_background": "light"
     },
     "output_type": "display_data"
    },
    {
     "data": {
      "image/png": "[encoded data removed]",
      "text/plain": [
       "<Figure size 720x432 with 1 Axes>"
      ]
     },
     "metadata": {
      "needs_background": "light"
     },
     "output_type": "display_data"
    },
    {
     "name": "stdout",
     "output_type": "stream",
     "text": [
      "\n",
      "Percentage of missing values in producers_1:\n",
      "Region                4.758863\n",
      "District              4.758863\n",
      "Producer Name         4.758863\n",
      "Abbreviation Name    11.050782\n",
      "Activity_Type         4.694986\n",
      "President_Name        4.694986\n",
      "Contact               4.694986\n",
      "dtype: float64\n",
      "\n",
      "Percentage of missing values in producers_2:\n",
      "Tier 1 Suppliers       0.161290\n",
      "Producer Name          9.032258\n",
      "Abbreviation Name      8.387097\n",
      "Region                19.193548\n",
      "Country              100.000000\n",
      "Source                 0.000000\n",
      "dtype: float64\n"
     ]
    }
   ],
   "source": [
    "# Define function to plot missingness heatmap\n",
    "def plot_missingness(df, title):\n",
    "    plt.figure(figsize=(10, 6))\n",
    "    sns.heatmap(df.isnull(), cbar=False, yticklabels=False, cmap='viridis')\n",
    "    plt.title(f'Missingness in {title}')\n",
    "    plt.xlabel('Columns')\n",
    "    plt.ylabel('Rows')\n",
    "    plt.show()\n",
    "\n",
    "# Plot missingness for each DataFrame\n",
    "print(f'producers 1: {producers_1.shape}')\n",
    "print(f'producers 2: {producers_2.shape}')\n",
    "plot_missingness(producers_1, 'producers_1')\n",
    "plot_missingness(producers_2, 'producers_2')\n",
    "\n",
    "# Calculate and print percentage of missing values for each DataFrame\n",
    "for name, df in [('producers_1', producers_1), ('producers_2', producers_2)]:\n",
    "    print(f\"\\nPercentage of missing values in {name}:\")\n",
    "    print(df.isnull().sum() / len(df) * 100)\n"
   ]
  },
  {
   "cell_type": "markdown",
   "metadata": {},
   "source": [
    "## Clean"
   ]
  },
  {
   "cell_type": "code",
   "execution_count": 6,
   "metadata": {},
   "outputs": [],
   "source": [
    "from homogenize import clean_and_output_csv, standardize_name\n",
    "\n",
    "producers_1 = clean_and_output_csv(\n",
    "    'data/raw/producers-gov.csv', \n",
    "    'data/clean/producers-gov.csv'\n",
    ")\n",
    "producers_2 = clean_and_output_csv(\n",
    "    'data/raw/producers-importer.csv', \n",
    "    'data/clean/producers-importer.csv'\n",
    ")"
   ]
  },
  {
   "cell_type": "code",
   "execution_count": 7,
   "metadata": {},
   "outputs": [
    {
     "name": "stdout",
     "output_type": "stream",
     "text": [
      "producers 1: (2777, 7)\n",
      "producers 2: (514, 5)\n"
     ]
    },
    {
     "data": {
      "image/png": "[encoded data removed]",
      "text/plain": [
       "<Figure size 720x432 with 1 Axes>"
      ]
     },
     "metadata": {
      "needs_background": "light"
     },
     "output_type": "display_data"
    },
    {
     "data": {
      "image/png": "[encoded data removed]",
      "text/plain": [
       "<Figure size 720x432 with 1 Axes>"
      ]
     },
     "metadata": {
      "needs_background": "light"
     },
     "output_type": "display_data"
    },
    {
     "name": "stdout",
     "output_type": "stream",
     "text": [
      "\n",
      "Percentage of missing values in producers_1:\n",
      "Region               4.39323\n",
      "District             0.00000\n",
      "Producer Name        0.00000\n",
      "Abbreviation Name    0.00000\n",
      "Activity_Type        0.00000\n",
      "President_Name       0.00000\n",
      "Contact              0.00000\n",
      "dtype: float64\n",
      "\n",
      "Percentage of missing values in producers_2:\n",
      "Tier 1 Suppliers      0.000000\n",
      "Producer Name         0.000000\n",
      "Abbreviation Name     0.000000\n",
      "Region               12.451362\n",
      "Source                0.000000\n",
      "dtype: float64\n"
     ]
    }
   ],
   "source": [
    "# Define function to plot missingness heatmap\n",
    "def plot_missingness(df, title):\n",
    "    plt.figure(figsize=(10, 6))\n",
    "    sns.heatmap(df.isnull(), cbar=False, yticklabels=False, cmap='viridis')\n",
    "    plt.title(f'Missingness in {title}')\n",
    "    plt.xlabel('Columns')\n",
    "    plt.ylabel('Rows')\n",
    "    plt.show()\n",
    "\n",
    "# Plot missingness for each DataFrame\n",
    "print(f'producers 1: {producers_1.shape}')\n",
    "print(f'producers 2: {producers_2.shape}')\n",
    "plot_missingness(producers_1, 'producers_1')\n",
    "plot_missingness(producers_2, 'producers_2')\n",
    "\n",
    "# Calculate and print percentage of missing values for each DataFrame\n",
    "for name, df in [('producers_1', producers_1), ('producers_2', producers_2)]:\n",
    "    print(f\"\\nPercentage of missing values in {name}:\")\n",
    "    print(df.isnull().sum() / len(df) * 100)"
   ]
  },
  {
   "cell_type": "code",
   "execution_count": 9,
   "metadata": {},
   "outputs": [
    {
     "data": {
      "text/html": [
       "<div>\n",
       "<style scoped>\n",
       "    .dataframe tbody tr th:only-of-type {\n",
       "        vertical-align: middle;\n",
       "    }\n",
       "\n",
       "    .dataframe tbody tr th {\n",
       "        vertical-align: top;\n",
       "    }\n",
       "\n",
       "    .dataframe thead th {\n",
       "        text-align: right;\n",
       "    }\n",
       "</style>\n",
       "<table border=\"1\" class=\"dataframe\">\n",
       "  <thead>\n",
       "    <tr style=\"text-align: right;\">\n",
       "      <th></th>\n",
       "      <th>Tier 1 Suppliers</th>\n",
       "      <th>Producer Name</th>\n",
       "      <th>Abbreviation Name</th>\n",
       "      <th>Region</th>\n",
       "      <th>Source</th>\n",
       "    </tr>\n",
       "  </thead>\n",
       "  <tbody>\n",
       "    <tr>\n",
       "      <th>54</th>\n",
       "      <td>Barry Callebaut AG</td>\n",
       "      <td>societe cooperative avec conseil dadministrati...</td>\n",
       "      <td>None</td>\n",
       "      <td>Agnibilekrou</td>\n",
       "      <td>https://www.lindt-spruengli.com/amfile/file/do...</td>\n",
       "    </tr>\n",
       "    <tr>\n",
       "      <th>55</th>\n",
       "      <td>Barry Callebaut AG</td>\n",
       "      <td>societe cooperative avec conseil dadministrati...</td>\n",
       "      <td>None</td>\n",
       "      <td>Abengourou</td>\n",
       "      <td>https://www.lindt-spruengli.com/amfile/file/do...</td>\n",
       "    </tr>\n",
       "    <tr>\n",
       "      <th>56</th>\n",
       "      <td>Barry Callebaut AG</td>\n",
       "      <td>societe cooperative agricole ahuanou darrah av ca</td>\n",
       "      <td>None</td>\n",
       "      <td>Bongouanou</td>\n",
       "      <td>https://www.lindt-spruengli.com/amfile/file/do...</td>\n",
       "    </tr>\n",
       "    <tr>\n",
       "      <th>57</th>\n",
       "      <td>Barry Callebaut AG</td>\n",
       "      <td>societe cooperative agricole guelanin avec con...</td>\n",
       "      <td>None</td>\n",
       "      <td>Bangolo</td>\n",
       "      <td>https://www.lindt-spruengli.com/amfile/file/do...</td>\n",
       "    </tr>\n",
       "    <tr>\n",
       "      <th>58</th>\n",
       "      <td>Barry Callebaut AG</td>\n",
       "      <td>societe cooperative agricole imaah societe coo...</td>\n",
       "      <td>None</td>\n",
       "      <td>Divo</td>\n",
       "      <td>https://www.lindt-spruengli.com/amfile/file/do...</td>\n",
       "    </tr>\n",
       "    <tr>\n",
       "      <th>...</th>\n",
       "      <td>...</td>\n",
       "      <td>...</td>\n",
       "      <td>...</td>\n",
       "      <td>...</td>\n",
       "      <td>...</td>\n",
       "    </tr>\n",
       "    <tr>\n",
       "      <th>614</th>\n",
       "      <td>Olam International Limited</td>\n",
       "      <td>societe cooperative agricole de watte</td>\n",
       "      <td>socopawa</td>\n",
       "      <td>Watté</td>\n",
       "      <td>https://www.olamgroup.com/content/dam/olamgrou...</td>\n",
       "    </tr>\n",
       "    <tr>\n",
       "      <th>615</th>\n",
       "      <td>Olam International Limited</td>\n",
       "      <td>societe cooperative des producteurs pour la du...</td>\n",
       "      <td>socopdal scoops</td>\n",
       "      <td>Lakota</td>\n",
       "      <td>https://www.olamgroup.com/content/dam/olamgrou...</td>\n",
       "    </tr>\n",
       "    <tr>\n",
       "      <th>616</th>\n",
       "      <td>Olam International Limited</td>\n",
       "      <td>societe cooperative agricole entente de karie</td>\n",
       "      <td>socopek</td>\n",
       "      <td>Karie</td>\n",
       "      <td>https://www.olamgroup.com/content/dam/olamgrou...</td>\n",
       "    </tr>\n",
       "    <tr>\n",
       "      <th>617</th>\n",
       "      <td>Olam International Limited</td>\n",
       "      <td>societe cooperative solidarite de mahino</td>\n",
       "      <td>socosomcoopca</td>\n",
       "      <td>Mahino</td>\n",
       "      <td>https://www.olamgroup.com/content/dam/olamgrou...</td>\n",
       "    </tr>\n",
       "    <tr>\n",
       "      <th>618</th>\n",
       "      <td>Olam International Limited</td>\n",
       "      <td>union des producteurs agricoles de san pedro</td>\n",
       "      <td>upas coop ca</td>\n",
       "      <td>Gagny</td>\n",
       "      <td>https://www.olamgroup.com/content/dam/olamgrou...</td>\n",
       "    </tr>\n",
       "  </tbody>\n",
       "</table>\n",
       "<p>564 rows × 5 columns</p>\n",
       "</div>"
      ],
      "text/plain": [
       "               Tier 1 Suppliers  \\\n",
       "54           Barry Callebaut AG   \n",
       "55           Barry Callebaut AG   \n",
       "56           Barry Callebaut AG   \n",
       "57           Barry Callebaut AG   \n",
       "58           Barry Callebaut AG   \n",
       "..                          ...   \n",
       "614  Olam International Limited   \n",
       "615  Olam International Limited   \n",
       "616  Olam International Limited   \n",
       "617  Olam International Limited   \n",
       "618  Olam International Limited   \n",
       "\n",
       "                                         Producer Name Abbreviation Name  \\\n",
       "54   societe cooperative avec conseil dadministrati...              None   \n",
       "55   societe cooperative avec conseil dadministrati...              None   \n",
       "56   societe cooperative agricole ahuanou darrah av ca              None   \n",
       "57   societe cooperative agricole guelanin avec con...              None   \n",
       "58   societe cooperative agricole imaah societe coo...              None   \n",
       "..                                                 ...               ...   \n",
       "614              societe cooperative agricole de watte          socopawa   \n",
       "615  societe cooperative des producteurs pour la du...   socopdal scoops   \n",
       "616      societe cooperative agricole entente de karie           socopek   \n",
       "617           societe cooperative solidarite de mahino     socosomcoopca   \n",
       "618       union des producteurs agricoles de san pedro      upas coop ca   \n",
       "\n",
       "           Region                                             Source  \n",
       "54   Agnibilekrou  https://www.lindt-spruengli.com/amfile/file/do...  \n",
       "55     Abengourou  https://www.lindt-spruengli.com/amfile/file/do...  \n",
       "56     Bongouanou  https://www.lindt-spruengli.com/amfile/file/do...  \n",
       "57        Bangolo  https://www.lindt-spruengli.com/amfile/file/do...  \n",
       "58           Divo  https://www.lindt-spruengli.com/amfile/file/do...  \n",
       "..            ...                                                ...  \n",
       "614         Watté  https://www.olamgroup.com/content/dam/olamgrou...  \n",
       "615        Lakota  https://www.olamgroup.com/content/dam/olamgrou...  \n",
       "616         Karie  https://www.olamgroup.com/content/dam/olamgrou...  \n",
       "617        Mahino  https://www.olamgroup.com/content/dam/olamgrou...  \n",
       "618         Gagny  https://www.olamgroup.com/content/dam/olamgrou...  \n",
       "\n",
       "[564 rows x 5 columns]"
      ]
     },
     "execution_count": 9,
     "metadata": {},
     "output_type": "execute_result"
    }
   ],
   "source": [
    "producers_2"
   ]
  },
  {
   "cell_type": "markdown",
   "metadata": {},
   "source": [
    "## Find Exact Matches"
   ]
  },
  {
   "cell_type": "code",
   "execution_count": 8,
   "metadata": {},
   "outputs": [],
   "source": [
    "from homogenize import find_exact_matches_csv\n",
    "\n",
    "output_csv_path = 'data/outputs/exact_matches.csv'\n",
    "exact_matches_df = find_exact_matches_csv(\n",
    "    producers_1, \n",
    "    producers_2, \n",
    "    output_csv_path\n",
    ")"
   ]
  },
  {
   "cell_type": "code",
   "execution_count": 9,
   "metadata": {},
   "outputs": [
    {
     "name": "stdout",
     "output_type": "stream",
     "text": [
      "exact_matches_df: (72, 12)\n"
     ]
    },
    {
     "data": {
      "image/png": "[encoded data removed]",
      "text/plain": [
       "<Figure size 720x432 with 1 Axes>"
      ]
     },
     "metadata": {
      "needs_background": "light"
     },
     "output_type": "display_data"
    },
    {
     "name": "stdout",
     "output_type": "stream",
     "text": [
      "\n",
      "Percentage of missing values in exact matches:\n",
      "Region                1.388889\n",
      "District              0.000000\n",
      "Producer Name         0.000000\n",
      "Abbreviation Name     0.000000\n",
      "Activity_Type         0.000000\n",
      "President_Name        0.000000\n",
      "Contact               0.000000\n",
      "Tier 1 Suppliers      0.000000\n",
      "Producer Name         0.000000\n",
      "Abbreviation Name     0.000000\n",
      "Region               18.055556\n",
      "Source                0.000000\n",
      "dtype: float64\n"
     ]
    }
   ],
   "source": [
    "# Plot missingness for each DataFrame\n",
    "print(f'exact_matches_df: {exact_matches_df.shape}')\n",
    "plot_missingness(exact_matches_df, 'exact matches')\n",
    "\n",
    "# Calculate and print percentage of missing values for each DataFrame\n",
    "for name, df in [('exact matches', exact_matches_df)]:\n",
    "    print(f\"\\nPercentage of missing values in {name}:\")\n",
    "    print(df.isnull().sum() / len(df) * 100)\n"
   ]
  },
  {
   "cell_type": "markdown",
   "metadata": {},
   "source": [
    "## Generate Name Pairs\n",
    "\n",
    "Find the cartesian product of our two datasets to generate all the pairs we need to test. "
   ]
  },
  {
   "cell_type": "code",
   "execution_count": 10,
   "metadata": {},
   "outputs": [],
   "source": [
    "from homogenize import cartesian_product\n",
    "\n",
    "producers_1 = pd.read_csv('data/clean/producers-gov.csv')\n",
    "producers_2 = pd.read_csv('data/clean/producers-importer.csv')\n",
    "\n",
    "pairs = cartesian_product(producers_1, producers_2, 'data/outputs/all_pairs.csv')"
   ]
  },
  {
   "cell_type": "markdown",
   "metadata": {},
   "source": [
    "## Vector Silarity Tests\n",
    "\n",
    "Here we'll be using semantic similarity and TF-IDF vectors to embed the producer names find each pair's cosine similarity. A high similarity should indicate a higher likelihood that the names represent the same entity. We'll define thresholds for each method and use the results to generate an eval set with many difficult cases. <br> \n",
    "\n",
    "Since we only need the Producer names and abbreviations, we'll start by pulling those out of the all_pairs csv."
   ]
  },
  {
   "cell_type": "code",
   "execution_count": 1,
   "metadata": {},
   "outputs": [],
   "source": [
    "import pandas as pd"
   ]
  },
  {
   "cell_type": "code",
   "execution_count": 2,
   "metadata": {},
   "outputs": [
    {
     "name": "stderr",
     "output_type": "stream",
     "text": [
      "/tmp/ipykernel_151/1820070784.py:4: DtypeWarning: Columns (0) have mixed types. Specify dtype option on import or set low_memory=False.\n",
      "  pairs = pd.read_csv('data/outputs/all_pairs.csv')\n"
     ]
    },
    {
     "data": {
      "text/plain": [
       "(1427378, 4)"
      ]
     },
     "execution_count": 2,
     "metadata": {},
     "output_type": "execute_result"
    }
   ],
   "source": [
    "try:\n",
    "    pairs\n",
    "except NameError:\n",
    "    pairs = pd.read_csv('data/outputs/all_pairs.csv')\n",
    "\n",
    "pairs = pairs[['Producer Name_x', 'Abbreviation Name_x', 'Producer Name_y', 'Abbreviation Name_y']]\n",
    "pairs.shape"
   ]
  },
  {
   "cell_type": "markdown",
   "metadata": {},
   "source": [
    "Below you should see that there are no nulls in the name pairs since they should have all been removed during cleaning. "
   ]
  },
  {
   "cell_type": "code",
   "execution_count": 13,
   "metadata": {},
   "outputs": [
    {
     "data": {
      "image/png": "[encoded data removed]",
      "text/plain": [
       "<Figure size 720x432 with 1 Axes>"
      ]
     },
     "metadata": {
      "needs_background": "light"
     },
     "output_type": "display_data"
    }
   ],
   "source": [
    "plot_missingness(pairs, 'Name Pairs')"
   ]
  },
  {
   "cell_type": "markdown",
   "metadata": {},
   "source": [
    "Now, we'll run all similarity tests."
   ]
  },
  {
   "cell_type": "code",
   "execution_count": null,
   "metadata": {},
   "outputs": [
    {
     "name": "stderr",
     "output_type": "stream",
     "text": [
      "/home/mperona/.local/lib/python3.9/site-packages/sentence_transformers/cross_encoder/CrossEncoder.py:13: TqdmExperimentalWarning: Using `tqdm.autonotebook.tqdm` in notebook mode. Use `tqdm.tqdm` instead to force console mode (e.g. in jupyter console)\n",
      "  from tqdm.autonotebook import tqdm, trange\n",
      "2024-10-30 15:07:10.520249: I tensorflow/core/platform/cpu_feature_guard.cc:182] This TensorFlow binary is optimized to use available CPU instructions in performance-critical operations.\n",
      "To enable the following instructions: AVX2 FMA, in other operations, rebuild TensorFlow with the appropriate compiler flags.\n"
     ]
    }
   ],
   "source": [
    "from semantic_similarity import create_similarity_data\n",
    "\n",
    "# Sample size\n",
    "SAMPLE_SIZE = 500_000\n",
    "processed_pairs = create_similarity_data(pairs, SAMPLE_SIZE, 'data/outputs/pair_similarity.csv')"
   ]
  },
  {
   "cell_type": "markdown",
   "metadata": {},
   "source": [
    "### Semantic Similarity\n",
    "\n",
    "Here we measure the semantic similarity between names of producers to see whether a threshold can reasonably classify which names pairs are the same. "
   ]
  },
  {
   "cell_type": "code",
   "execution_count": 1,
   "metadata": {},
   "outputs": [
    {
     "data": {
      "text/html": [
       "<div>\n",
       "<style scoped>\n",
       "    .dataframe tbody tr th:only-of-type {\n",
       "        vertical-align: middle;\n",
       "    }\n",
       "\n",
       "    .dataframe tbody tr th {\n",
       "        vertical-align: top;\n",
       "    }\n",
       "\n",
       "    .dataframe thead th {\n",
       "        text-align: right;\n",
       "    }\n",
       "</style>\n",
       "<table border=\"1\" class=\"dataframe\">\n",
       "  <thead>\n",
       "    <tr style=\"text-align: right;\">\n",
       "      <th></th>\n",
       "      <th>tf_idf_similarity_name</th>\n",
       "      <th>semantic_similarity_name</th>\n",
       "      <th>second_half_similarity_name</th>\n",
       "      <th>second_half_weighted_similarity</th>\n",
       "    </tr>\n",
       "  </thead>\n",
       "  <tbody>\n",
       "    <tr>\n",
       "      <th>count</th>\n",
       "      <td>250000.000000</td>\n",
       "      <td>250000.000000</td>\n",
       "      <td>250000.000000</td>\n",
       "      <td>250000.000000</td>\n",
       "    </tr>\n",
       "    <tr>\n",
       "      <th>mean</th>\n",
       "      <td>0.047012</td>\n",
       "      <td>0.619417</td>\n",
       "      <td>0.352008</td>\n",
       "      <td>0.485713</td>\n",
       "    </tr>\n",
       "    <tr>\n",
       "      <th>std</th>\n",
       "      <td>0.052823</td>\n",
       "      <td>0.137601</td>\n",
       "      <td>0.144011</td>\n",
       "      <td>0.122493</td>\n",
       "    </tr>\n",
       "    <tr>\n",
       "      <th>min</th>\n",
       "      <td>0.000000</td>\n",
       "      <td>-0.047489</td>\n",
       "      <td>-0.207100</td>\n",
       "      <td>-0.049703</td>\n",
       "    </tr>\n",
       "    <tr>\n",
       "      <th>25%</th>\n",
       "      <td>0.021311</td>\n",
       "      <td>0.541096</td>\n",
       "      <td>0.255312</td>\n",
       "      <td>0.408155</td>\n",
       "    </tr>\n",
       "    <tr>\n",
       "      <th>50%</th>\n",
       "      <td>0.035211</td>\n",
       "      <td>0.636809</td>\n",
       "      <td>0.340108</td>\n",
       "      <td>0.486357</td>\n",
       "    </tr>\n",
       "    <tr>\n",
       "      <th>75%</th>\n",
       "      <td>0.056195</td>\n",
       "      <td>0.716261</td>\n",
       "      <td>0.434237</td>\n",
       "      <td>0.563073</td>\n",
       "    </tr>\n",
       "    <tr>\n",
       "      <th>max</th>\n",
       "      <td>1.000000</td>\n",
       "      <td>1.000000</td>\n",
       "      <td>1.000000</td>\n",
       "      <td>1.000000</td>\n",
       "    </tr>\n",
       "  </tbody>\n",
       "</table>\n",
       "</div>"
      ],
      "text/plain": [
       "       tf_idf_similarity_name  semantic_similarity_name  \\\n",
       "count           250000.000000             250000.000000   \n",
       "mean                 0.047012                  0.619417   \n",
       "std                  0.052823                  0.137601   \n",
       "min                  0.000000                 -0.047489   \n",
       "25%                  0.021311                  0.541096   \n",
       "50%                  0.035211                  0.636809   \n",
       "75%                  0.056195                  0.716261   \n",
       "max                  1.000000                  1.000000   \n",
       "\n",
       "       second_half_similarity_name  second_half_weighted_similarity  \n",
       "count                250000.000000                    250000.000000  \n",
       "mean                      0.352008                         0.485713  \n",
       "std                       0.144011                         0.122493  \n",
       "min                      -0.207100                        -0.049703  \n",
       "25%                       0.255312                         0.408155  \n",
       "50%                       0.340108                         0.486357  \n",
       "75%                       0.434237                         0.563073  \n",
       "max                       1.000000                         1.000000  "
      ]
     },
     "execution_count": 1,
     "metadata": {},
     "output_type": "execute_result"
    }
   ],
   "source": [
    "import pandas as pd\n",
    "\n",
    "try:\n",
    "    processed_pairs\n",
    "except NameError:\n",
    "    processed_pairs = pd.read_csv('data/outputs/pair_similarity.csv')\n",
    "\n",
    "processed_pairs.describe()"
   ]
  },
  {
   "cell_type": "code",
   "execution_count": 2,
   "metadata": {},
   "outputs": [
    {
     "data": {
      "image/png": "[encoded data removed]",
      "text/plain": [
       "<Figure size 720x432 with 1 Axes>"
      ]
     },
     "metadata": {
      "needs_background": "light"
     },
     "output_type": "display_data"
    }
   ],
   "source": [
    "from vis import plot_missingness\n",
    "\n",
    "plot_missingness(processed_pairs, 'Pair Similarity')"
   ]
  },
  {
   "cell_type": "code",
   "execution_count": 3,
   "metadata": {},
   "outputs": [
    {
     "data": {
      "text/plain": [
       "Index(['Producer Name_x', 'Abbreviation Name_x', 'Producer Name_y',\n",
       "       'Abbreviation Name_y', 'tf_idf_similarity_name',\n",
       "       'semantic_similarity_name', 'second_half_similarity_name',\n",
       "       'second_half_weighted_similarity'],\n",
       "      dtype='object')"
      ]
     },
     "execution_count": 3,
     "metadata": {},
     "output_type": "execute_result"
    }
   ],
   "source": [
    "processed_pairs.columns"
   ]
  },
  {
   "cell_type": "code",
   "execution_count": 4,
   "metadata": {},
   "outputs": [
    {
     "name": "stdout",
     "output_type": "stream",
     "text": [
      "cooperative agricole des producteurs de divo       | cooperative agricole des producteurs de divo       | 1.0000 | coopapd coop-ca | coopradi   \n",
      "societe cooperative agricole sinikan               | societe cooperative agricole sinikan               | 1.0000 | coopas     | sinikan-scoopas \n",
      "societe cooperative agricole de kouibly            | societe cooperative agricole de kouibly            | 1.0000 | socak scoops | socas      \n",
      "nouvelle entreprise cooperative agricole de bagolieoua | nouvelle entreprise cooperative agricole de bagolieoua | 1.0000 | coop-ca necab | coop-ca necab \n",
      "cooperative agricole des producteurs de divo       | cooperative agricole des producteurs de divo       | 1.0000 | coopapd coop-ca | coopradi   \n",
      "societe cooperative des agriculteurs de soubre     | societe cooperative des agriculteurs de soubre     | 1.0000 | socags     | socags     \n",
      "societe cooperative agricole de guitry             | societe cooperative agricole de guitry             | 1.0000 | coop-ca socoagui | coop-ca-socoagui \n",
      "societe cooperative agricole de guitry             | societe cooperative agricole de guitry             | 1.0000 | socoopag coop-ca | coop-ca-socoagui \n",
      "societe  cooperative des producteurs agricole  du sanwi | societe cooperative des producteurs agricole du sanwi | 1.0000 | scoopras  coop-ca | coopras    \n",
      "societe cooperative agricole sinikan               | societe cooperative agricole sinikan               | 1.0000 | scoopas coop-ca | sinikan-scoopas \n",
      "cooperative agricole de lassina bango              | cooperative agricole de lassina bango              | 1.0000 | coopalba coop-ca | coopalba   \n",
      "societe cooperative agricole de djimon             | societe cooperative agricole de djimon             | 1.0000 | scoopadji coop-ca | scoopadji coop ca \n",
      "societe cooperative agricole de djoroplo           | societe cooperative agricole de djoroplo           | 1.0000 | coop-ca  socadjo | socadjo    \n",
      "cooperative  agricole la tolerance de bonoufla     | cooperative agricole la tolerance de bonoufla      | 1.0000 | scoops catb | catb       \n",
      "societe cooperative agricole de guitry             | societe cooperative agricole de guitry             | 1.0000 | coop-ca socoopgui | coop-ca-socoagui \n",
      "societe cooperative agricole de soubre             | societe cooperative agricole de soubre             | 1.0000 | socopaso scoops | scasou-coop-ca \n",
      "societe cooperative agricole de bayota             | societe cooperative agricole de bayota             | 1.0000 | socaba coop-ca | socaba     \n",
      "societe cooperative agricole lanaya de vavoua      | societe cooperative agricole lanaya de vavoua      | 1.0000 | scalava coop-ca | scalava    \n",
      "societe cooperative agricole de djimon             | societe cooperative agricole de djimon             | 1.0000 | scoopadji coop-ca | scoopadji coop ca \n",
      "societe cooperative agricole de dogbo              | societe cooperative agricole de dogbo              | 1.0000 | coop-ca cadogbo | socopadogbo \n",
      "societe cooperative des exploitants agricoles du haut- sassandra | societe cooperative des exploitants agricoles du haut-sassandra | 1.0000 | so.co.exp.a.hs coop-ca | socoexpahs \n",
      "societe cooperative agricole de dogbo              | societe cooperative agricole de dogbo              | 1.0000 | socopadogbo  coop-ca | socopadogbo \n",
      "societe cooperative soubreenne des producteurs agricoles | societe cooperative soubreenne des producteurs agricoles | 1.0000 | scspa coop ca | scspa      \n",
      "societe cooperative agricole de bayota             | societe cooperative agricole de bayota             | 1.0000 | socaba coop-ca | socaba     \n",
      "societe cooperative agricole  source de guitry     | societe cooperative agricole source de guitry      | 1.0000 | socopasg coop-ca | scoopasg   \n",
      "societe cooperative agricole de jeromekro          | societe cooperative agricole de jeromekro          | 1.0000 | socaj coop-ca | socaj coop-ca \n",
      "societe cooperative agricole moderne de divo       | societe cooperative agricole moderne de divo       | 1.0000 | coop-ca scamdi | coopamdi   \n",
      "cooperative agricole siboulaka de beoua            | cooperative agricole siboulaka de beoua            | 1.0000 | c.asi.b scoops | casib-scoops \n",
      "societe cooperative agricole de soubre             | societe cooperative agricole de soubre             | 1.0000 | scasou     | scasou-coop-ca \n",
      "societe cooperative agricole de hire               | societe cooperative agricole de hire               | 1.0000 | socahi coop-ca | socahi     \n",
      "societe cooperative agricole binkadi de broudoukou penda | societe cooperative agricole binkadi de de broudoukou penda | 0.9937 | coop-ca socabb | socabb     \n",
      "entreprise cooperative des producteurs agricoles kondiebouman | entreprise cooperative des producteurs agricoles de kondiebouman | 0.9904 | ecoopak coop-ca | ecoopak coop-ca \n",
      "entreprise cooperative agricole de mogekeledougou  | entreprise cooperative agricole de mogokeledougou  | 0.9861 | e.c.amog   | ecamog     \n",
      "societe cooperative agricole de yakasse-attobrou   | societe cooperatives agricole de yakasse attobrou  | 0.9799 | coop-ca cayat | scoops yat \n",
      "societe cooperative agricole here de dogbo         | societe cooperative agricole de dogbo              | 0.9792 | scoops schd | socopadogbo \n",
      "societe cooperative des agriculteurs de soubre avec | societe cooperative des agriculteurs de soubre     | 0.9786 | coopags coop-ca | socags     \n",
      "societe cooperative ivoirienne du negoce des produits agricoles | cooperative ivoirienne du negoce des produits agricoles | 0.9761 | scinpa coop ca | scinpa     \n",
      "societe cooperative moderne agricole de guitry     | societe cooperative agricole de guitry             | 0.9714 | coop-ca comag | coop-ca-socoagui \n",
      "societe cooperative moderne agricole de guitry     | societe cooperative agricole de guitry             | 0.9714 | coop-ca comag | coop-ca-socoagui \n",
      "societe cooperative agricole de divo               | societe cooperative agricole moderne de divo       | 0.9711 | scasdi scoops | coopamdi   \n",
      "societe agricole cooperative de divo               | societe cooperative agricole moderne de divo       | 0.9664 | coop-ca sacd | coopamdi   \n",
      "societe agricole cooperative de divo               | societe cooperative agricole moderne de divo       | 0.9664 | coop-ca sacd | coopamdi   \n",
      "societe cooperative des producteurs agricoles bebitafo de duekoue | cooperative des producteurs agricoles bebitafo de duekoue | 0.9637 | coop-ca cooprabed | coop-ca-cooprabed \n",
      "societe cooperative agricole de dibobly            | societe cooperative agricole de kouibly            | 0.9634 | scoops coop.a.di | socas      \n",
      "societe cooperative agricole de grabo              | societe cooperative agricole entente de grabo      | 0.9568 | socopag    | scaeg      \n",
      "societe cooperative agricole de kames              | societe cooperative agricole de kames 2            | 0.9564 | scoopakam coop-ca | scoopakam  \n",
      "societe cooperative agricole de petit bouake       | societe cooperative agricole de boua               | 0.9560 | scoopab    | scab       \n",
      "nouvelle cooperative agricole de bagolieoua        | nouvelle entreprise cooperative agricole de bagolieoua | 0.9553 | coop-ca necab | coop-ca necab \n",
      "societe cooperative des agriculteurs de soubre     | societe cooperative des nouveaux agriculteurs de soubre | 0.9551 | socags     | scoopnas   \n",
      "societe cooperative agricole de karie              | societe cooperative agricole entente de karie      | 0.9544 | coopaka coop-ca | socopek    \n",
      "societe cooperative ivoire qualite de juleskro     | societe cooperative simplifie ivoire qualite de juleskro | 0.9544 | scoops iqj | iqj        \n",
      "societe cooperative ivoirienne des producteurs agicoles de cafe - cacao dananguie | societe cooperative ivoirienne des producteurs\n",
      "cafe-cacao dananguie | 0.9543 | cipacca coop ca | cipacca coop-ca \n",
      "societe cooperative agricole allouata de guiglo    | societe cooperative agricole de guiglo             | 0.9543 | scaag scoops | scamg      \n",
      "societe cooperative agricole soutra de kouibly     | societe cooperative agricole de kouibly            | 0.9537 | cask scoops | socas      \n",
      "societe cooperative agricole de bouafle            | societe cooperative agricole de boua               | 0.9533 | so.ca.bo-scoops | scab       \n",
      "societe cooperative agricole de bouafle            | societe cooperative agricole de boua               | 0.9533 | socab coop-ca | scab       \n",
      "societe cooperative agricole de michelkro          | societe cooperative agricole de jeromekro          | 0.9526 | cami coop-ca | socaj coop-ca \n",
      "societe cooperative agricole espoir de vavoua      | societe cooperative agricole nongtaba de vavoua    | 0.9524 | coop-ca caeva | socanova   \n",
      "societe cooperative agricole gueasse de kouibly    | societe cooperative agricole de kouibly            | 0.9523 | scoops cgk | socas      \n",
      "societe cooperative agricole gueasse de kouibly    | societe cooperative agricole de kouibly            | 0.9523 | scoops cgk | socas      \n",
      "societe cooperative agricole de cechi              | societe cooperative agricole de cefi               | 0.9522 | scopac coop-ca | cac        \n",
      "societe cooperative agricole de touadji 1          | societe cooperative agricole de toudji 1           | 0.9521 | scat 1 scoops | scoops scat 1 \n",
      "societe cooperative agricole des producteurs de bangolo | societe cooperative simplifiee des producteurs agricole de bangolo | 0.9504 | scoopapb-coop-ca | scoops-aprab \n",
      "societe cooperative agricole de neka               | societe cooperative agricole de neka-cite          | 0.9503 | coopaneka  | socanek-coop-ca \n",
      "societe cooperative agricole de meagui             | societe cooperative agricole bekanti de meagui     | 0.9503 | socamea    | cabm       \n",
      "societe cooperative agricole de gagnoa             | societe cooperative agricole de gagny              | 0.9495 | scoops socoopag | coopagagny \n",
      "societe ivoirienne de cafe-cacao                   | societe ivoirienne de commercialisation de cafe et cacao | 0.9477 | sicc scoops | si3c       \n",
      "societe cooperative agricole espoir de keibly      | societe cooperative agricole de kouibly            | 0.9466 | scoops aek | socas      \n",
      "societe cooperative agricole binkadi de yorodougou | societe cooperative agricole binkadi de guepahouo  | 0.9454 | scoops bin-yo | cabing     \n",
      "societe cooperative agricole la renaissance de vavoua | cooperative agricole la renaissance de vavoua      | 0.9434 | so.careva coop-ca | careva     \n",
      "societe cooperative des producteurs agricoles de lahou | societe cooperative des producteurs agricoles de zouhounou | 0.9433 | coop-ca copal | cooprazo   \n",
      "societe cooperative des producteurs agricole de yacolo | societe cooperative des producteurs agricole de dabouyo | 0.9425 | socoopaya coop-ca | s-coop cooprada \n",
      "societe cooperative agricole reluainde de lakota   | societe cooperative agricole simplifiee de lakota  | 0.9423 | reluainde coop-ca | scoops al  \n",
      "societe cooperative agricole de  ndrikro           | societe cooperative agricole de jeromekro          | 0.9415 | socoopan scoops | socaj coop-ca \n",
      "societe cooperative agricole de koffikro           | societe cooperative agricole de kouibly            | 0.9414 | scoopakof coop-ca | socas      \n",
      "societe cooperative agricole de koffikro           | societe cooperative agricole de kouibly            | 0.9414 | scak scoops | socas      \n",
      "societe cooperative loubo des agriculteurs de soubre | societe cooperative des agriculteurs de soubre     | 0.9411 | scolas     | socags     \n",
      "societe cooperative agricole binkadi de ndrikro    | societe cooperative agricole binkadi de de broudoukou penda | 0.9408 | scoops abn | socabb     \n",
      "societe cooperative agricole de nzuekro            | societe cooperative agricole de jeromekro          | 0.9402 | scanzue coop-ca | socaj coop-ca \n",
      "societe cooperative agricole jeunesse de sourougou | jeunesse cooperative agricole de sourougou         | 0.9399 | sjcas coop-ca | coop jcas  \n",
      "societe cooperative agricole du cavally            | societe cooperative agricole de kouibly            | 0.9398 | scoops coopaca | socas      \n",
      "societe cooperative agricole de  ndrikro           | societe cooperative agricole de amanikro           | 0.9391 | socoopan scoops | coop-ca coopaa \n",
      "societe  cooperative agricole ehoulo  de soubre    | societe cooperative agricole de soubre             | 0.9383 | socaes coop-ca | scasou-coop-ca \n",
      "societe cooperative agricole de soubre             | societe cooperative agricole de sofoci             | 0.9382 | scoops socas | scas       \n",
      "societe cooperative agricole de soubre             | societe cooperative agricole de sofoci             | 0.9382 | scasou     | scas       \n",
      "societe cooperative de negoce de lakota            | societe coopperative de negoce de lakota           | 0.9380 | so-co-ne-l scoops | soconel    \n",
      "societe cooperative des exploitants agricoles du haut- sassandra | societe cooperative des exploitants agricoles des antilopes du haut sassandra | 0.9377 | so.co.exp.a.hs coop-ca | soceadahs  \n",
      "societe cooperative agricole soutra de kouibly     | societe cooperative agricole de soubre             | 0.9377 | cask scoops | scasou-coop-ca \n",
      "societe cooperative agricole soutra de kouibly     | societe cooperative agricole de soubre             | 0.9377 | caak scoops | scasou-coop-ca \n",
      "societe cooperative agricole soutra de kouibly     | societe cooperative agricole de soubre             | 0.9377 | cask scoops | scasou-coop-ca \n",
      "societe cooperative agricole loyale de guitry      | societe cooperative agricole de guitry             | 0.9375 | cpp-ca lcag  coop-ca | coop-ca-socoagui \n",
      "societe cooperative agricole de djimon             | societe cooperative agricole de djoroplo           | 0.9373 | scoopadji coop-ca | socadjo    \n",
      "cooperative  agricole la renaissance  de gadouan   | cooperative agricole la renaissance de vavoua      | 0.9365 | carega     | careva     \n",
      "cooperative  agricole la renaissance  de gadouan   | cooperative agricole la renaissance de vavoua      | 0.9365 | carega     | careva     \n",
      "societe cooperative agricole des producteurs de soubre | societe cooperative agricole de soubre             | 0.9358 | coop-ca caps | scasou-coop-ca \n",
      "societe cooperative agricole de sabou              | societe cooperative agricole sabary de sago        | 0.9357 | socopas scoops | socass coop-ca \n",
      "societe cooperative des producteurs agricole du cavally | societe cooperative des producteurs agricole de dabouyo | 0.9351 | coop-ca cpac | s-coop cooprada \n",
      "societe cooperative des producteurs de cafe-cacao  | societe cooperative des producteurs cafe-cacao de la marahoue | 0.9349 | cpccd scoops | scoops-codema \n",
      "societe cooperative agricole de la comoe           | societe cooperative agricole de kouibly            | 0.9347 | coopac coop-ca | socas      \n",
      "societe cooperative agricole de cheiknankro        | societe cooperative agricole de jeromekro          | 0.9338 | socach     | socaj coop-ca \n"
     ]
    }
   ],
   "source": [
    "processed_pairs = processed_pairs.sort_values(by='semantic_similarity_name', ascending=False)\n",
    "        \n",
    "for i in range(100):\n",
    "    row = processed_pairs.iloc[i]\n",
    "    print(f\"{row['Producer Name_x']:<50} | {row['Producer Name_y']:<50} | {row['semantic_similarity_name']:.4f} | {row['Abbreviation Name_x']:<10} | {row['Abbreviation Name_y']:<10} \")\n",
    "\n",
    "with open('data/outputs/semantic_similarity_name.txt', 'w') as f:\n",
    "    for i in range(100):\n",
    "        row = processed_pairs.iloc[i]\n",
    "        f.write(f\"{row['Producer Name_x']:<70} | {row['Producer Name_y']:<70} | {row['semantic_similarity_name']:.4f} | {row['Abbreviation Name_x']:<10} | {row['Abbreviation Name_y']:<10}\\n\")\n"
   ]
  },
  {
   "cell_type": "markdown",
   "metadata": {},
   "source": [
    "One thing we can notice immediately is that the way the string starts seems to heavily sway the similarity resulting similarity measure. The second half of each name seems more relevant to determining sameness, so we'll process another sample looking at the semantic similarity of only the second half of each name. "
   ]
  },
  {
   "cell_type": "code",
   "execution_count": 5,
   "metadata": {},
   "outputs": [
    {
     "data": {
      "image/png": "[encoded data removed]",
      "text/plain": [
       "<Figure size 576x288 with 1 Axes>"
      ]
     },
     "metadata": {
      "needs_background": "light"
     },
     "output_type": "display_data"
    },
    {
     "name": "stdout",
     "output_type": "stream",
     "text": [
      "Percentage of pairs with similarity > 0.85: 1.76%\n"
     ]
    }
   ],
   "source": [
    "from vis import similarity_hist\n",
    "\n",
    "similarity_hist(\n",
    "    df=processed_pairs, \n",
    "    column='semantic_similarity_name', \n",
    "    title='Distribution of Semantic Similarity Scores Between Producer Names', \n",
    "    threshold= 0.85\n",
    ")"
   ]
  },
  {
   "cell_type": "markdown",
   "metadata": {},
   "source": [
    "#### Second Half Similarity"
   ]
  },
  {
   "cell_type": "code",
   "execution_count": 6,
   "metadata": {},
   "outputs": [
    {
     "name": "stdout",
     "output_type": "stream",
     "text": [
      "societe cooperative agricole de kouibly            | societe cooperative agricole de kouibly            | 1.0000 | socak scoops | socas      \n",
      "cooperative du pardon                              | societe cooperative du pardon                      | 1.0000 | scoopa scoops | scoopa     \n",
      "societe cooperative soubreenne des producteurs agricoles | societe cooperative soubreenne des producteurs agricoles | 1.0000 | scspa coop ca | scspa      \n",
      "societe cooperative agricole de dogbo              | societe cooperative agricole de dogbo              | 1.0000 | socopadogbo  coop-ca | socopadogbo \n",
      "societe cooperative de meagui                      | cooperative victoire de meagui                     | 1.0000 | socoom     | covimea    \n",
      "societe cooperative agricole lanaya de vavoua      | societe cooperative agricole lanaya de vavoua      | 1.0000 | scalava coop-ca | scalava    \n",
      "societe cooperative agricole akayara de datta      | ste coop agri akayara de datta                     | 1.0000 | coop-ca scoopaad | scoopaad_datta \n",
      "cooperative agricole des producteurs de divo       | cooperative agricole des producteurs de divo       | 1.0000 | coopapd coop-ca | coopradi   \n",
      "cooperative agricole siboulaka de beoua            | cooperative agricole siboulaka de beoua            | 1.0000 | c.asi.b scoops | casib-scoops \n",
      "cooperative agricole langmtaba de bonon            | societe cooperative langmtaba de bonon             | 1.0000 | calbo coop-ca | coop - ca - calbo \n",
      "societe cooperative agricole de jeromekro          | societe cooperative agricole de jeromekro          | 1.0000 | socaj coop-ca | socaj coop-ca \n",
      "societe cooperative agricole de dogbo              | societe cooperative agricole de dogbo              | 1.0000 | coop-ca cadogbo | socopadogbo \n",
      "societe cooperative agricole de djimon             | societe cooperative agricole de djimon             | 1.0000 | scoopadji coop-ca | scoopadji coop ca \n",
      "cooperative agricole des producteurs de divo       | cooperative agricole des producteurs de divo       | 1.0000 | coopapd coop-ca | coopradi   \n",
      "societe cooperative agricole anossa du departement de daloa | societe cooperative agricole energie du departement de daloa | 1.0000 | anossa coop-ca | ceda       \n",
      "cooperative des producteurs agricoles de la region\n",
      "des lacs | cooperative pour le developpement de la region des lacs | 1.0000 | coopar-lacs coop-ca | coderlacs  \n",
      "societe cooperative moderne agricole de guitry     | societe cooperative agricole de guitry             | 1.0000 | coop-ca comag | coop-ca-socoagui \n",
      "societe cooperative agricole binkeleman de gboguhe | cooperative agricole binkeleman de gboguhe         | 1.0000 | cabg scoops | cabg scoops \n",
      "societe cooperative ivoirienne du negoce des produits agricoles | cooperative ivoirienne du negoce des produits agricoles | 1.0000 | scinpa coop ca | scinpa     \n",
      "societe cooperative agricole de hire               | societe cooperative agricole de hire               | 1.0000 | socahi coop-ca | socahi     \n",
      "societe cooperative moderne agricole de guitry     | societe cooperative agricole de guitry             | 1.0000 | coop-ca comag | coop-ca-socoagui \n",
      "cooperative victoire de meagui                     | societe cooperative de meagui                      | 1.0000 | covimea coop-ca | capcb      \n",
      "entreprise cooperative agricole de gnipi 2         | cooperative agricole de gnipi 2                    | 1.0000 | ecagni scoops | coopagnipi \n",
      "societe cooperative agricole espoir de lakota      | societe cooperative simplifiee espoir de lakota    | 1.0000 | socael coop-ca | socoopela  \n",
      "societe cooperative sabarikagni de la marahoue     | cooperative agricole de la marahoue                | 1.0000 | scoops sa-ma | coam       \n",
      "cooperative agricole bekanti de meagui             | societe cooperative agricole bekanti de meagui     | 1.0000 | cabm scoops | cabm       \n",
      "societe cooperative agricole de la marahoue        | cooperative agricole de la marahoue                | 1.0000 | coama coop-ca | coam       \n",
      "societe cooperative agricole de la marahoue        | cooperative agricole de la marahoue                | 1.0000 | coam coop-ca | coam       \n",
      "societe cooperative agricole sinikan               | societe cooperative agricole sinikan               | 1.0000 | coopas     | sinikan-scoopas \n",
      "entreprise cooperative agricole de gnipi 2         | cooperative agricole de gnipi 2                    | 1.0000 | ecagni scoops | coopagnipi \n",
      "societe cooperative agricole de djoroplo           | societe cooperative agricole de djoroplo           | 1.0000 | coop-ca  socadjo | socadjo    \n",
      "societe  cooperative des producteurs agricole  du sanwi | societe cooperative des producteurs agricole du sanwi | 1.0000 | scoopras  coop-ca | coopras    \n",
      "societe cooperative agricole de bonon              | entreprise cooperative agricole de bonon           | 1.0000 | scabo scoops | ecab       \n",
      "societe cooperative de negoce de lakota            | societe coopperative de negoce de lakota           | 1.0000 | so-co-ne-l scoops | soconel    \n",
      "societe cooperative agricole de soubre             | societe cooperative agricole de soubre             | 1.0000 | socopaso scoops | scasou-coop-ca \n",
      "societe cooperative espoir de lakota               | societe cooperative simplifiee espoir de lakota    | 1.0000 | socoopela scoops | socoopela  \n",
      "cooperative  agricole la tolerance de bonoufla     | cooperative agricole la tolerance de bonoufla      | 1.0000 | scoops catb | catb       \n",
      "societe cooperative agricole moderne de divo       | societe cooperative agricole moderne de divo       | 1.0000 | coop-ca scamdi | coopamdi   \n",
      "societe cooperative agricole de djimon             | societe cooperative agricole de djimon             | 1.0000 | scoopadji coop-ca | scoopadji coop ca \n",
      "cooperative agricole de lassina bango              | cooperative agricole de lassina bango              | 1.0000 | coopalba coop-ca | coopalba   \n",
      "societe cooperative agricole sinikan               | societe cooperative agricole sinikan               | 1.0000 | scoopas coop-ca | sinikan-scoopas \n",
      "societe cooperative des agriculteurs de soubre     | societe cooperative des agriculteurs de soubre     | 1.0000 | socags     | socags     \n",
      "societe cooperative agricole de guitry             | societe cooperative agricole de guitry             | 1.0000 | coop-ca socoagui | coop-ca-socoagui \n",
      "societe cooperative agricole de soubre             | societe cooperative agricole de soubre             | 1.0000 | scasou     | scasou-coop-ca \n",
      "societe cooperative agricole de guitry             | societe cooperative agricole de guitry             | 1.0000 | coop-ca socoopgui | coop-ca-socoagui \n",
      "cooperative agricole de gabiadji                   | entr coop de gabiadji                              | 1.0000 | coopaga    | ecoga_coop-ca \n",
      "societe  cooperative ekloewou de gbapleu           | cooperative agricole ekloewou de gbapleu           | 1.0000 | ekloewou scoops | caeg       \n",
      "cooperative agricole binkadi de hermankono garo    | cooperative agricole boribana de hermankono garo   | 1.0000 | cabihga coop-ca | cabohga coop ca \n",
      "nouvelle cooperative agricole de bagolieoua        | nouvelle entreprise cooperative agricole de bagolieoua | 1.0000 | coop-ca necab | coop-ca necab \n",
      "societe cooperative agricole de guitry             | societe cooperative agricole de guitry             | 1.0000 | socoopag coop-ca | coop-ca-socoagui \n",
      "societe cooperative agricole de bayota             | societe cooperative agricole de bayota             | 1.0000 | socaba coop-ca | socaba     \n",
      "societe cooperative agricole de bayota             | societe cooperative agricole de bayota             | 1.0000 | socaba coop-ca | socaba     \n",
      "societe cooperative agricole  source de guitry     | societe cooperative agricole source de guitry      | 1.0000 | socopasg coop-ca | scoopasg   \n",
      "societe cooperative des producteurs agricoles bebitafo de duekoue | cooperative des producteurs agricoles bebitafo de duekoue | 1.0000 | coop-ca cooprabed | coop-ca-cooprabed \n",
      "nouvelle entreprise cooperative agricole de bagolieoua | nouvelle entreprise cooperative agricole de bagolieoua | 1.0000 | coop-ca necab | coop-ca necab \n",
      "societe cooperative negoge de lakota               | societe coopperative de negoce de lakota           | 0.9880 | scoops so.co.ne.l | soconel    \n",
      "entreprise cooperative agricole de mogekeledougou  | entreprise cooperative agricole de mogokeledougou  | 0.9773 | e.c.amog   | ecamog     \n",
      "entreprise cooperative des producteurs agricoles kondiebouman | entreprise cooperative des producteurs agricoles de kondiebouman | 0.9755 | ecoopak coop-ca | ecoopak coop-ca \n",
      "societe cooperative agricole la renaissance de vavoua | cooperative agricole la renaissance de vavoua      | 0.9705 | so.careva coop-ca | careva     \n",
      "societe  cooperative agricole la renaissance de bianouan | cooperative agricole renaissance de bianouan       | 0.9676 | socarebia coop-ca | socarebia coop-ca \n",
      "societe ivoirienne de cafe-cacao                   | societe ivoirienne de commercialisation de cafe et cacao | 0.9647 | sicc scoops | si3c       \n",
      "societe cooperative loubo des agriculteurs de soubre | societe cooperative des agriculteurs de soubre     | 0.9643 | scolas     | socags     \n",
      "societe cooperative\n",
      "- coop-ivoirienne des agriculteurs de meagui | entreprise cooperative des agriculteurs de meagui  | 0.9631 | coop-ca ciam | ecafhs coop ca \n",
      "societe cooperative\n",
      "- coop-ivoirienne des agriculteurs de meagui | enterprise cooperative des agriculteurs de meagui  | 0.9631 | coop-ca ciam | ecam       \n",
      "societe cooperative ekloewou gbapleu               | cooperative agricole ekloewou de gbapleu           | 0.9569 | scoops ekloewou | caeg       \n",
      "societe cooperative des agriculteurs de soubre avec | societe cooperative des agriculteurs de soubre     | 0.9513 | coopags coop-ca | socags     \n",
      "societe cooperative des producteurs agricoles de kouibly | societe cooperative agricole des producteurs agricoles de cavally | 0.9507 | scoops cooprak | scoopac-coop ca \n",
      "societe cooperative la source de guitry ii         | societe cooperative agricole source de guitry      | 0.9472 | socopasg ii scoops | scoopasg   \n",
      "societe cooperative des producteurs agricoles de divo | societe cooperative agricole des producteurs agricoles de cavally | 0.9411 | coop-ca scoopradi | scoopac-coop ca \n",
      "societe cooperative des producteurs agricoles de kouibly | societe cooperative soubreenne des producteurs agricoles | 0.9388 | scoops cooprak | scspa      \n",
      "societe cooperative la feve de la marahoue         | cooperative agricole de la marahoue                | 0.9382 | socoofem scoops | coam       \n",
      "societe cooperative des co- producteurs agricoles de yabayo | societe cooperative nouvelle des producteurs agricoles de yakasse | 0.9371 | coop-ca cpay | soconpayat \n",
      "societe cooperative des producteurs agricoles de bangolo | societe cooperative simplifiee des producteurs agricole de bangolo | 0.9362 | scoopaba coop-ca | scoops-aprab \n",
      "societe cooperative des producteurs agricoles de bangolo | societe cooperative simplifiee des producteurs agricole de bangolo | 0.9362 | scoopaba coop-ca | scoops-aprab \n",
      "cooperative solidarite des agriculteurs de vavoua  | societe cooperative des jeunes agriculteurs de vavoua | 0.9350 | cosav      | coop java  \n",
      "societe cooperative soubreenne des producteurs agricoles | societe cooperative agricole des producteurs agricoles de cavally | 0.9349 | scspa coop ca | scoopac-coop ca \n",
      "societe cooperative des producteurs agricoles de la-me | societe cooperative agricole des producteurs agricoles de cavally | 0.9317 | socoopa-me coop-ca | scoopac-coop ca \n",
      "societe cooperative sabarikagni de la marahoue     | societe cooperative des freres unis de la marahoue | 0.9314 | scoops sa-ma | socofuma   \n",
      "societe cooperative yeboyekoun de la marahoue      | societe cooperative des freres unis de la marahoue | 0.9314 | scooyeb coop-ca | socofuma   \n",
      "societe cooperative des producteurs de cafe cacao  | societe cooperative ivoirienne des producteurs\n",
      "cafe-cacao dananguie | 0.9256 | coproccane | cipacca coop-ca \n",
      "societe cooperative agricole gnowily de bonon      | entreprise cooperative de bonon                    | 0.9246 | coop-ca cagb | ecodebo    \n",
      "societe cooperative de distribution et de promotion des producteurs agricoles | societe cooperative soubreenne des producteurs agricoles | 0.9245 | coop-ca s.co.di.pr.a | scspa      \n",
      "societe cooperative de distribution et de promotion des producteurs agricoles | societe cooperative soubreenne des producteurs agricoles | 0.9245 | coop-ca s.co.di.pr.a | scspa      \n",
      "societe cooperative des producteurs agricoles de lahou | societe cooperative des producteurs agricoles de zouhounou | 0.9207 | coop-ca copal | cooprazo   \n",
      "societe cooperative agricole de bouafle            | societe cooperative agricole de boua               | 0.9198 | so.ca.bo-scoops | scab       \n",
      "societe cooperative agricole de bouafle            | societe cooperative agricole de boua               | 0.9198 | socab coop-ca | scab       \n",
      "cooperative des jeunes producteurs agricoles du worodougou | societe cooperative des producteurs agricoles de zouhounou | 0.9190 | coojepawo-scoops | cooprazo   \n",
      "cooperative agricole de mahino                     | societe cooperative agricole entente de mahino     | 0.9190 | coama 2    | socoopem coop ca \n",
      "societe cooperative agricole de dibobly            | societe cooperative agricole de kouibly            | 0.9189 | scoops coop.a.di | socas      \n",
      "societe cooperative des producteurs agricoles de vavoua | societe cooperative agricole des producteurs agricoles de cavally | 0.9177 | scoops copav | scoopac-coop ca \n",
      "groupement des producteurs agricoles de guitry     | societe cooperative agricole de guitry             | 0.9170 | coop-ca pag | coop-ca-socoagui \n",
      "societe cooperative agricole des planteurs de cafe cacao et anacarde | societe ivoirienne de commercialisation de cafe et cacao | 0.9157 | scoops scapcca | si3c       \n",
      "societe cooperative agro- alimentaire de la marahoue | cooperative agricole de la marahoue                | 0.9112 | coop-ca-socaam | coam       \n",
      "societe cooperative des producteurs agricoles du yocolo | societe cooperative soubreenne des producteurs agricoles | 0.9087 | s.copayo scoops | scspa      \n",
      "societe cooperative soubreenne des producteurs agricoles | societe cooperative avec conseil d'administration des producteurs agricoles de niable | 0.9072 | scspa coop ca | coop-ca-pan \n",
      "societe cooperative agricole de moussadougou       | entreprise cooperative agricole de mogokeledougou  | 0.9064 | scamo      | ecamog     \n",
      "nouvelle cooperative agricole de moussadougou      | entreprise cooperative agricole de mogokeledougou  | 0.9064 | novacam    | ecamog     \n",
      "societe cooperatives consensium des producteurs cafe-cacao cote divoire | societe cooperative ivoirienne des producteurs\n",
      "cafe-cacao dananguie | 0.9061 | cpccci scoops | cipacca coop-ca \n",
      "societe cooperative des producteurs agricoles de grand-zattry | societe cooperative soubreenne des producteurs agricoles | 0.9057 | coop-ca pagzat | scspa      \n",
      "societe cooperative des producteurs agricoles de grand-zattry | societe cooperative agricole des producteurs agricoles de cavally | 0.9042 | coop-ca pagzat | scoopac-coop ca \n"
     ]
    }
   ],
   "source": [
    "processed_pairs = processed_pairs.sort_values(by='second_half_similarity_name', ascending=False)\n",
    "\n",
    "# Print the results side by side        \n",
    "for i in range(100):\n",
    "    row = processed_pairs.iloc[i]\n",
    "    print(f\"{row['Producer Name_x']:<50} | {row['Producer Name_y']:<50} | {row['second_half_similarity_name']:.4f} | {row['Abbreviation Name_x']:<10} | {row['Abbreviation Name_y']:<10} \")\n",
    "\n",
    "with open('data/outputs/second_half_similarity_name.txt', 'w') as f:\n",
    "    for i in range(100):\n",
    "        row = processed_pairs.iloc[i]\n",
    "        f.write(f\"{row['Producer Name_x']:<70} | {row['Producer Name_y']:<70} | {row['second_half_similarity_name']:.4f} | {row['Abbreviation Name_x']:<10} | {row['Abbreviation Name_y']:<10}\\n\")\n"
   ]
  },
  {
   "cell_type": "code",
   "execution_count": 7,
   "metadata": {},
   "outputs": [
    {
     "data": {
      "image/png": "[encoded data removed]",
      "text/plain": [
       "<Figure size 576x288 with 1 Axes>"
      ]
     },
     "metadata": {
      "needs_background": "light"
     },
     "output_type": "display_data"
    },
    {
     "name": "stdout",
     "output_type": "stream",
     "text": [
      "Percentage of pairs with similarity > 0.85: 0.13%\n"
     ]
    }
   ],
   "source": [
    "similarity_hist(\n",
    "    df=processed_pairs, \n",
    "    column='second_half_similarity_name', \n",
    "    title='Distribution of Semantic Similarity Scores Between Second Half of Producer Names', \n",
    "    threshold= 0.85\n",
    ")"
   ]
  },
  {
   "cell_type": "markdown",
   "metadata": {},
   "source": [
    "We got more exact matches, but lower overall similarity for the whole set. This is expected. Let's see what happens when we average the second half similarity with that of the first half."
   ]
  },
  {
   "cell_type": "code",
   "execution_count": 8,
   "metadata": {},
   "outputs": [
    {
     "name": "stdout",
     "output_type": "stream",
     "text": [
      "societe cooperative agricole de kouibly            | societe cooperative agricole de kouibly            | 1.0000 | socak scoops | socas      \n",
      "societe cooperative soubreenne des producteurs agricoles | societe cooperative soubreenne des producteurs agricoles | 1.0000 | scspa coop ca | scspa      \n",
      "societe cooperative agricole de dogbo              | societe cooperative agricole de dogbo              | 1.0000 | socopadogbo  coop-ca | socopadogbo \n",
      "cooperative agricole des producteurs de divo       | cooperative agricole des producteurs de divo       | 1.0000 | coopapd coop-ca | coopradi   \n",
      "cooperative agricole des producteurs de divo       | cooperative agricole des producteurs de divo       | 1.0000 | coopapd coop-ca | coopradi   \n",
      "societe cooperative agricole sinikan               | societe cooperative agricole sinikan               | 1.0000 | coopas     | sinikan-scoopas \n",
      "societe cooperative agricole de guitry             | societe cooperative agricole de guitry             | 1.0000 | socoopag coop-ca | coop-ca-socoagui \n",
      "societe cooperative agricole de guitry             | societe cooperative agricole de guitry             | 1.0000 | coop-ca socoopgui | coop-ca-socoagui \n",
      "societe cooperative agricole de guitry             | societe cooperative agricole de guitry             | 1.0000 | coop-ca socoagui | coop-ca-socoagui \n",
      "societe cooperative agricole sinikan               | societe cooperative agricole sinikan               | 1.0000 | scoopas coop-ca | sinikan-scoopas \n",
      "cooperative agricole de lassina bango              | cooperative agricole de lassina bango              | 1.0000 | coopalba coop-ca | coopalba   \n",
      "societe cooperative agricole de djimon             | societe cooperative agricole de djimon             | 1.0000 | scoopadji coop-ca | scoopadji coop ca \n",
      "cooperative  agricole la tolerance de bonoufla     | cooperative agricole la tolerance de bonoufla      | 1.0000 | scoops catb | catb       \n",
      "societe cooperative agricole de soubre             | societe cooperative agricole de soubre             | 1.0000 | socopaso scoops | scasou-coop-ca \n",
      "societe  cooperative des producteurs agricole  du sanwi | societe cooperative des producteurs agricole du sanwi | 1.0000 | scoopras  coop-ca | coopras    \n",
      "societe cooperative agricole de djoroplo           | societe cooperative agricole de djoroplo           | 1.0000 | coop-ca  socadjo | socadjo    \n",
      "societe cooperative des agriculteurs de soubre     | societe cooperative des agriculteurs de soubre     | 1.0000 | socags     | socags     \n",
      "societe cooperative agricole de dogbo              | societe cooperative agricole de dogbo              | 1.0000 | coop-ca cadogbo | socopadogbo \n",
      "societe cooperative agricole lanaya de vavoua      | societe cooperative agricole lanaya de vavoua      | 1.0000 | scalava coop-ca | scalava    \n",
      "societe cooperative agricole de jeromekro          | societe cooperative agricole de jeromekro          | 1.0000 | socaj coop-ca | socaj coop-ca \n",
      "cooperative agricole siboulaka de beoua            | cooperative agricole siboulaka de beoua            | 1.0000 | c.asi.b scoops | casib-scoops \n",
      "societe cooperative agricole de djimon             | societe cooperative agricole de djimon             | 1.0000 | scoopadji coop-ca | scoopadji coop ca \n",
      "nouvelle entreprise cooperative agricole de bagolieoua | nouvelle entreprise cooperative agricole de bagolieoua | 1.0000 | coop-ca necab | coop-ca necab \n",
      "societe cooperative agricole de bayota             | societe cooperative agricole de bayota             | 1.0000 | socaba coop-ca | socaba     \n",
      "societe cooperative agricole moderne de divo       | societe cooperative agricole moderne de divo       | 1.0000 | coop-ca scamdi | coopamdi   \n",
      "societe cooperative agricole  source de guitry     | societe cooperative agricole source de guitry      | 1.0000 | socopasg coop-ca | scoopasg   \n",
      "societe cooperative agricole de hire               | societe cooperative agricole de hire               | 1.0000 | socahi coop-ca | socahi     \n",
      "societe cooperative agricole de bayota             | societe cooperative agricole de bayota             | 1.0000 | socaba coop-ca | socaba     \n",
      "societe cooperative agricole de soubre             | societe cooperative agricole de soubre             | 1.0000 | scasou     | scasou-coop-ca \n",
      "societe cooperative ivoirienne du negoce des produits agricoles | cooperative ivoirienne du negoce des produits agricoles | 0.9881 | scinpa coop ca | scinpa     \n",
      "societe cooperative moderne agricole de guitry     | societe cooperative agricole de guitry             | 0.9857 | coop-ca comag | coop-ca-socoagui \n",
      "societe cooperative moderne agricole de guitry     | societe cooperative agricole de guitry             | 0.9857 | coop-ca comag | coop-ca-socoagui \n",
      "entreprise cooperative des producteurs agricoles kondiebouman | entreprise cooperative des producteurs agricoles de kondiebouman | 0.9830 | ecoopak coop-ca | ecoopak coop-ca \n",
      "societe cooperative des producteurs agricoles bebitafo de duekoue | cooperative des producteurs agricoles bebitafo de duekoue | 0.9819 | coop-ca cooprabed | coop-ca-cooprabed \n",
      "entreprise cooperative agricole de mogekeledougou  | entreprise cooperative agricole de mogokeledougou  | 0.9817 | e.c.amog   | ecamog     \n",
      "nouvelle cooperative agricole de bagolieoua        | nouvelle entreprise cooperative agricole de bagolieoua | 0.9777 | coop-ca necab | coop-ca necab \n",
      "societe cooperative de negoce de lakota            | societe coopperative de negoce de lakota           | 0.9690 | so-co-ne-l scoops | soconel    \n",
      "entreprise cooperative agricole de gnipi 2         | cooperative agricole de gnipi 2                    | 0.9653 | ecagni scoops | coopagnipi \n",
      "entreprise cooperative agricole de gnipi 2         | cooperative agricole de gnipi 2                    | 0.9653 | ecagni scoops | coopagnipi \n",
      "societe cooperative des agriculteurs de soubre avec | societe cooperative des agriculteurs de soubre     | 0.9650 | coopags coop-ca | socags     \n",
      "societe cooperative agricole de la marahoue        | cooperative agricole de la marahoue                | 0.9646 | coam coop-ca | coam       \n",
      "societe cooperative agricole de la marahoue        | cooperative agricole de la marahoue                | 0.9646 | coama coop-ca | coam       \n",
      "societe cooperative agricole anossa du departement de daloa | societe cooperative agricole energie du departement de daloa | 0.9628 | anossa coop-ca | ceda       \n",
      "societe cooperative espoir de lakota               | societe cooperative simplifiee espoir de lakota    | 0.9618 | socoopela scoops | socoopela  \n",
      "societe cooperative agricole la renaissance de vavoua | cooperative agricole la renaissance de vavoua      | 0.9570 | so.careva coop-ca | careva     \n",
      "societe ivoirienne de cafe-cacao                   | societe ivoirienne de commercialisation de cafe et cacao | 0.9562 | sicc scoops | si3c       \n",
      "cooperative agricole bekanti de meagui             | societe cooperative agricole bekanti de meagui     | 0.9558 | cabm scoops | cabm       \n",
      "cooperative agricole binkadi de hermankono garo    | cooperative agricole boribana de hermankono garo   | 0.9530 | cabihga coop-ca | cabohga coop ca \n",
      "societe cooperative loubo des agriculteurs de soubre | societe cooperative des agriculteurs de soubre     | 0.9527 | scolas     | socags     \n",
      "societe cooperative agricole binkeleman de gboguhe | cooperative agricole binkeleman de gboguhe         | 0.9514 | cabg scoops | cabg scoops \n",
      "societe cooperative negoge de lakota               | societe coopperative de negoce de lakota           | 0.9504 | scoops so.co.ne.l | soconel    \n",
      "societe  cooperative agricole la renaissance de bianouan | cooperative agricole renaissance de bianouan       | 0.9450 | socarebia coop-ca | socarebia coop-ca \n",
      "societe cooperative agricole binkadi de broudoukou penda | societe cooperative agricole binkadi de de broudoukou penda | 0.9433 | coop-ca socabb | socabb     \n",
      "societe cooperative des producteurs agricoles de kouibly | societe cooperative agricole des producteurs agricoles de cavally | 0.9421 | scoops cooprak | scoopac-coop ca \n",
      "societe cooperative agricole de dibobly            | societe cooperative agricole de kouibly            | 0.9411 | scoops coop.a.di | socas      \n",
      "societe cooperative agricole de bonon              | entreprise cooperative agricole de bonon           | 0.9401 | scabo scoops | ecab       \n",
      "societe cooperative des exploitants agricoles du haut- sassandra | societe cooperative des exploitants agricoles du haut-sassandra | 0.9381 | so.co.exp.a.hs coop-ca | socoexpahs \n",
      "societe cooperative agricole de bouafle            | societe cooperative agricole de boua               | 0.9365 | so.ca.bo-scoops | scab       \n",
      "societe cooperative agricole de bouafle            | societe cooperative agricole de boua               | 0.9365 | socab coop-ca | scab       \n",
      "societe cooperative des co- producteurs agricoles de yabayo | societe cooperative nouvelle des producteurs agricoles de yakasse | 0.9353 | coop-ca cpay | soconpayat \n",
      "societe cooperative des producteurs agricoles de divo | societe cooperative agricole des producteurs agricoles de cavally | 0.9344 | coop-ca scoopradi | scoopac-coop ca \n",
      "societe cooperative des producteurs agricoles de lahou | societe cooperative des producteurs agricoles de zouhounou | 0.9320 | coop-ca copal | cooprazo   \n",
      "societe cooperative agricole espoir de lakota      | societe cooperative simplifiee espoir de lakota    | 0.9292 | socael coop-ca | socoopela  \n",
      "cooperative agricole langmtaba de bonon            | societe cooperative langmtaba de bonon             | 0.9273 | calbo coop-ca | coop - ca - calbo \n",
      "societe cooperative agricole de cechi              | societe cooperative agricole de cefi               | 0.9267 | scopac coop-ca | cac        \n",
      "societe cooperative des producteurs agricoles de kouibly | societe cooperative soubreenne des producteurs agricoles | 0.9265 | scoops cooprak | scspa      \n",
      "societe cooperative des producteurs agricoles de la-me | societe cooperative agricole des producteurs agricoles de cavally | 0.9259 | socoopa-me coop-ca | scoopac-coop ca \n",
      "cooperative du pardon                              | societe cooperative du pardon                      | 0.9257 | scoopa scoops | scoopa     \n",
      "societe cooperative agricole de gagnoa             | societe cooperative agricole de gagny              | 0.9251 | scoops socoopag | coopagagny \n",
      "societe cooperative des producteurs agricole de yacolo | societe cooperative des producteurs agricole de dabouyo | 0.9232 | socoopaya coop-ca | s-coop cooprada \n",
      "societe cooperative des producteurs agricoles de bangolo | societe cooperative simplifiee des producteurs agricole de bangolo | 0.9229 | scoopaba coop-ca | scoops-aprab \n",
      "societe cooperative des producteurs agricoles de bangolo | societe cooperative simplifiee des producteurs agricole de bangolo | 0.9229 | scoopaba coop-ca | scoops-aprab \n",
      "societe cooperative agricole de michelkro          | societe cooperative agricole de jeromekro          | 0.9185 | cami coop-ca | socaj coop-ca \n",
      "societe cooperative des agriculteurs de soubre     | societe cooperative des nouveaux agriculteurs de soubre | 0.9179 | socags     | scoopnas   \n",
      "societe cooperative agricole de neka               | societe cooperative agricole de neka-cite          | 0.9152 | coopaneka  | socanek-coop-ca \n",
      "societe cooperative des producteurs agricoles de vavoua | societe cooperative agricole des producteurs agricoles de cavally | 0.9141 | scoops copav | scoopac-coop ca \n",
      "societe cooperative des producteurs agricoles de gazibouo | societe cooperative des producteurs agricoles de zouhounou | 0.9140 | scoops praga | cooprazo   \n",
      "cooperative des jeunes producteurs agricoles du worodougou | societe cooperative des producteurs agricoles de zouhounou | 0.9130 | coojepawo-scoops | cooprazo   \n",
      "societe cooperative des producteurs agricoles de saioua | societe cooperative des producteurs agricoles de zouhounou | 0.9130 | coopas scoops | cooprazo   \n",
      "societe cooperative des producteurs agricoles du worodougou | societe cooperative des producteurs agricoles de douaville | 0.9129 | coop-ca-pawo | socopadou  \n",
      "societe cooperative des producteurs agricoles du worodougou | societe cooperative des producteurs agricoles de douaville | 0.9129 | coop-ca-pawo | socopadou  \n",
      "societe cooperative des producteurs de cafe-cacao de gabekro | societe cooperative des producteurs cafe-cacao de la marahoue | 0.9122 | scoops pccg | scoops-codema \n",
      "societe cooperative des producteurs de cafe-cacao de gabekro | societe cooperative des producteurs cafe-cacao de la marahoue | 0.9122 | scoops pccg | scoops-codema \n",
      "societe cooperative des producteurs agricoles du yocolo | societe cooperative des producteurs agricoles de douaville | 0.9119 | s.copayo scoops | socopadou  \n",
      "societe cooperative ivoirienne des producteurs agicoles de cafe - cacao dananguie | societe cooperative ivoirienne des producteurs\n",
      "cafe-cacao dananguie | 0.9113 | cipacca coop ca | cipacca coop-ca \n",
      "societe cooperative soubreenne des producteurs agricoles | societe cooperative agricole des producteurs agricoles de cavally | 0.9096 | scspa coop ca | scoopac-coop ca \n",
      "societe cooperative des producteurs agricoles de kafougounadougou | entreprise cooperative des producteurs agricoles de kondiebouman | 0.9085 | scoopaka scoops | ecoopak coop-ca \n",
      "societe cooperative des producteurs agricoles du yocolo | societe cooperative soubreenne des producteurs agricoles | 0.9077 | s.copayo scoops | scspa      \n",
      "societe cooperative des producteurs agricole du cavally | societe cooperative des producteurs agricole de dabouyo | 0.9074 | coop-ca cpac | s-coop cooprada \n",
      "societe cooperative agricole ecloyewou guiglo      | societe cooperative agricole de guiglo             | 0.9067 | coop-ca caeg | scamg      \n",
      "cooperative des producteurs agricoles de la region\n",
      "des lacs | cooperative pour le developpement de la region des lacs | 0.9056 | coopar-lacs coop-ca | coderlacs  \n",
      "societe cooperative des producteurs agricoles du yocolo | societe cooperative agricole des producteurs agricoles de cavally | 0.9054 | s.copayo scoops | scoopac-coop ca \n",
      "societe  cooperative ekloewou de gbapleu           | cooperative agricole ekloewou de gbapleu           | 0.9051 | ekloewou scoops | caeg       \n",
      "societe cooperative des producteurs\n",
      "agricoles d aboussounou | societe cooperative soubreenne des producteurs agricoles | 0.9035 | coop.ca p.2a | scspa      \n",
      "societe cooperative des producteurs agricoles de tiassale | societe cooperative soubreenne des producteurs agricoles | 0.9033 | scpat coop-ca | scspa      \n",
      "societe cooperative espoir de guepahouo            | cooperative espoir de guepahouo                    | 0.9033 | scoops espoir guepahouo | coopages   \n",
      "societe cooperative des producteurs agricoles de grand-zattry | societe cooperative agricole des producteurs agricoles de cavally | 0.9031 | coop-ca pagzat | scoopac-coop ca \n",
      "societe cooperative des producteurs agricoles de grand-zattry | societe cooperative soubreenne des producteurs agricoles | 0.9026 | coop-ca pagzat | scspa      \n",
      "societe cooperative alliance des producteurs agricoles de gueyo | societe cooperative des producteurs agricoles de douaville | 0.9025 | socapag-coop-ca | socopadou  \n",
      "societe cooperative agricole de  ndrikro           | societe cooperative agricole de jeromekro          | 0.9023 | socoopan scoops | socaj coop-ca \n"
     ]
    }
   ],
   "source": [
    "processed_pairs = processed_pairs.sort_values(by='second_half_weighted_similarity', ascending=False)\n",
    "\n",
    "# Print the results side by side        \n",
    "for i in range(100):\n",
    "    row = processed_pairs.iloc[i]\n",
    "    print(f\"{row['Producer Name_x']:<50} | {row['Producer Name_y']:<50} | {row['second_half_weighted_similarity']:.4f} | {row['Abbreviation Name_x']:<10} | {row['Abbreviation Name_y']:<10} \")\n",
    "\n",
    "with open('data/outputs/second_half_weighted_similarity.txt', 'w') as f:\n",
    "    for i in range(100):\n",
    "        row = processed_pairs.iloc[i]\n",
    "        f.write(f\"{row['Producer Name_x']:<70} | {row['Producer Name_y']:<70} | {row['second_half_weighted_similarity']:.4f} | {row['Abbreviation Name_x']:<10} | {row['Abbreviation Name_y']:<10}\\n\")\n"
   ]
  },
  {
   "cell_type": "code",
   "execution_count": 9,
   "metadata": {},
   "outputs": [
    {
     "data": {
      "image/png": "[encoded data removed]",
      "text/plain": [
       "<Figure size 576x288 with 1 Axes>"
      ]
     },
     "metadata": {
      "needs_background": "light"
     },
     "output_type": "display_data"
    },
    {
     "name": "stdout",
     "output_type": "stream",
     "text": [
      "Percentage of pairs with similarity > 0.85: 0.19%\n"
     ]
    }
   ],
   "source": [
    "similarity_hist(\n",
    "    df=processed_pairs, \n",
    "    column='second_half_weighted_similarity', \n",
    "    title='Distribution of Semantic Similarity Scores Weighing the Second Half More', \n",
    "    threshold= 0.85\n",
    ")"
   ]
  },
  {
   "cell_type": "markdown",
   "metadata": {},
   "source": [
    "### TF-IDF Vector Similarity"
   ]
  },
  {
   "cell_type": "code",
   "execution_count": 10,
   "metadata": {},
   "outputs": [
    {
     "name": "stdout",
     "output_type": "stream",
     "text": [
      "societe cooperative des agriculteurs de soubre     | societe cooperative des agriculteurs de soubre     | 1.0000 | socags     | socags     \n",
      "societe cooperative agricole de djoroplo           | societe cooperative agricole de djoroplo           | 1.0000 | coop-ca  socadjo | socadjo    \n",
      "societe  cooperative des producteurs agricole  du sanwi | societe cooperative des producteurs agricole du sanwi | 1.0000 | scoopras  coop-ca | coopras    \n",
      "cooperative agricole de lassina bango              | cooperative agricole de lassina bango              | 1.0000 | coopalba coop-ca | coopalba   \n",
      "societe cooperative agricole de kouibly            | societe cooperative agricole de kouibly            | 1.0000 | socak scoops | socas      \n",
      "societe cooperative agricole lanaya de vavoua      | societe cooperative agricole lanaya de vavoua      | 1.0000 | scalava coop-ca | scalava    \n",
      "cooperative agricole siboulaka de beoua            | cooperative agricole siboulaka de beoua            | 1.0000 | c.asi.b scoops | casib-scoops \n",
      "societe cooperative agricole de djimon             | societe cooperative agricole de djimon             | 1.0000 | scoopadji coop-ca | scoopadji coop ca \n",
      "nouvelle entreprise cooperative agricole de bagolieoua | nouvelle entreprise cooperative agricole de bagolieoua | 1.0000 | coop-ca necab | coop-ca necab \n",
      "societe cooperative agricole de bayota             | societe cooperative agricole de bayota             | 1.0000 | socaba coop-ca | socaba     \n",
      "societe cooperative agricole moderne de divo       | societe cooperative agricole moderne de divo       | 1.0000 | coop-ca scamdi | coopamdi   \n",
      "societe cooperative agricole  source de guitry     | societe cooperative agricole source de guitry      | 1.0000 | socopasg coop-ca | scoopasg   \n",
      "societe cooperative agricole de hire               | societe cooperative agricole de hire               | 1.0000 | socahi coop-ca | socahi     \n",
      "societe cooperative agricole de bayota             | societe cooperative agricole de bayota             | 1.0000 | socaba coop-ca | socaba     \n",
      "societe cooperative des exploitants agricoles du haut- sassandra | societe cooperative des exploitants agricoles du haut-sassandra | 1.0000 | so.co.exp.a.hs coop-ca | socoexpahs \n",
      "societe cooperative soubreenne des producteurs agricoles | societe cooperative soubreenne des producteurs agricoles | 1.0000 | scspa coop ca | scspa      \n",
      "societe cooperative agricole de kames              | societe cooperative agricole de kames 2            | 1.0000 | scoopakam coop-ca | scoopakam  \n",
      "societe cooperative agricole de jeromekro          | societe cooperative agricole de jeromekro          | 1.0000 | socaj coop-ca | socaj coop-ca \n",
      "societe cooperative agricole de soubre             | societe cooperative agricole de soubre             | 1.0000 | scasou     | scasou-coop-ca \n",
      "societe cooperative agricole de dogbo              | societe cooperative agricole de dogbo              | 1.0000 | coop-ca cadogbo | socopadogbo \n",
      "societe cooperative agricole de guitry             | societe cooperative agricole de guitry             | 1.0000 | socoopag coop-ca | coop-ca-socoagui \n",
      "societe cooperative agricole de dogbo              | societe cooperative agricole de dogbo              | 1.0000 | socopadogbo  coop-ca | socopadogbo \n",
      "societe cooperative agricole de soubre             | societe cooperative agricole de soubre             | 1.0000 | socopaso scoops | scasou-coop-ca \n",
      "cooperative agricole des producteurs de divo       | cooperative agricole des producteurs de divo       | 1.0000 | coopapd coop-ca | coopradi   \n",
      "societe cooperative agricole sinikan               | societe cooperative agricole sinikan               | 1.0000 | coopas     | sinikan-scoopas \n",
      "cooperative agricole des producteurs de divo       | cooperative agricole des producteurs de divo       | 1.0000 | coopapd coop-ca | coopradi   \n",
      "societe cooperative agricole de guitry             | societe cooperative agricole de guitry             | 1.0000 | coop-ca socoopgui | coop-ca-socoagui \n",
      "societe cooperative agricole de guitry             | societe cooperative agricole de guitry             | 1.0000 | coop-ca socoagui | coop-ca-socoagui \n",
      "societe cooperative agricole sinikan               | societe cooperative agricole sinikan               | 1.0000 | scoopas coop-ca | sinikan-scoopas \n",
      "societe cooperative agricole de djimon             | societe cooperative agricole de djimon             | 1.0000 | scoopadji coop-ca | scoopadji coop ca \n",
      "cooperative  agricole la tolerance de bonoufla     | cooperative agricole la tolerance de bonoufla      | 1.0000 | scoops catb | catb       \n",
      "societe cooperative agricole ety- ewoun-anien du haut sassandra | cooperative agricole ety-ewoun-anien du haut sassandra | 0.9965 | coop-ca caehs | caehs      \n",
      "societe cooperative ivoirienne du negoce des produits agricoles | cooperative ivoirienne du negoce des produits agricoles | 0.9938 | scinpa coop ca | scinpa     \n",
      "societe cooperative agricole binkadi de broudoukou penda | societe cooperative agricole binkadi de de broudoukou penda | 0.9937 | coop-ca socabb | socabb     \n",
      "societe cooperative des producteurs agricoles bebitafo de duekoue | cooperative des producteurs agricoles bebitafo de duekoue | 0.9926 | coop-ca cooprabed | coop-ca-cooprabed \n",
      "societe cooperative agricole jeunesse de sourougou | jeunesse cooperative agricole de sourougou         | 0.9921 | sjcas coop-ca | coop jcas  \n",
      "entreprise cooperative des producteurs agricoles kondiebouman | entreprise cooperative des producteurs agricoles de kondiebouman | 0.9919 | ecoopak coop-ca | ecoopak coop-ca \n",
      "societe cooperative agricole binkeleman de gboguhe | cooperative agricole binkeleman de gboguhe         | 0.9909 | cabg scoops | cabg scoops \n",
      "cooperative agricole bekanti de meagui             | societe cooperative agricole bekanti de meagui     | 0.9906 | cabm scoops | cabm       \n",
      "societe cooperative agricole la renaissance de vavoua | cooperative agricole la renaissance de vavoua      | 0.9893 | so.careva coop-ca | careva     \n",
      "societe cooperative farmers hope                   | farmers hope                                       | 0.9885 | faho coop-ca | faho       \n",
      "cooperative du pardon                              | societe cooperative du pardon                      | 0.9870 | scoopa scoops | scoopa     \n",
      "societe cooperative espoir de guepahouo            | cooperative espoir de guepahouo                    | 0.9869 | scoops espoir guepahouo | coopages   \n",
      "societe cooperative agricole de la marahoue        | cooperative agricole de la marahoue                | 0.9839 | coama coop-ca | coam       \n",
      "societe cooperative agricole de la marahoue        | cooperative agricole de la marahoue                | 0.9839 | coam coop-ca | coam       \n",
      "societe cooperative entreprise cooperative agricole daffery | entreprise cooperative agricole daffery            | 0.9801 | coop-ca ecaaf | ecaaf      \n",
      "societe  cooperative ekloewou de gbapleu           | cooperative agricole ekloewou de gbapleu           | 0.9788 | ekloewou scoops | caeg       \n",
      "cooperative agricole langmtaba de bonon            | societe cooperative langmtaba de bonon             | 0.9760 | calbo coop-ca | coop - ca - calbo \n",
      "societe cooperative ekloewou gbapleu               | cooperative agricole ekloewou de gbapleu           | 0.9701 | scoops ekloewou | caeg       \n",
      "entreprise cooperative agricole de saint-\n",
      "paul agricole | entreprise cooperative de saint-paul               | 0.9587 | coop-ca ecsp | ecsp       \n",
      "societe cooperative laisse tout a dieu de vavoua   | societe cooperative simplifiee laisse tout a dieu de vavoua | 0.9482 | scoops ltdv | scoops-ltdv \n",
      "cooperative agricole laisse tout a dieu de vavoua  | societe cooperative simplifiee laisse tout a dieu de vavoua | 0.9360 | section guiglo | scoops-ltdv \n",
      "societe cooperative toumtoumda du haut- sassandra  | societe cooperative simplifiee agricole toumtoumda du haut sassandra | 0.9178 | scoopaths coop-ca | coopaths-scoops \n",
      "nouvelle cooperative agricole de bagolieoua        | nouvelle entreprise cooperative agricole de bagolieoua | 0.9068 | coop-ca necab | coop-ca necab \n",
      "societe  cooperative agricole la renaissance de bianouan | cooperative agricole renaissance de bianouan       | 0.9063 | socarebia coop-ca | socarebia coop-ca \n",
      "societe cooperative  agricole des producteurs de hire | societe cooperative agricole de hire               | 0.8797 | scoops aphi | socahi     \n",
      "societe cooperative des agriculteurs de soubre avec | societe cooperative des agriculteurs de soubre     | 0.8796 | coopags coop-ca | socags     \n",
      "entreprise cooperative agricole de gnipi 2         | cooperative agricole de gnipi 2                    | 0.8682 | ecagni scoops | coopagnipi \n",
      "entreprise cooperative agricole de gnipi 2         | cooperative agricole de gnipi 2                    | 0.8682 | ecagni scoops | coopagnipi \n",
      "societe cooperative espoir de lakota               | societe cooperative simplifiee espoir de lakota    | 0.8623 | socoopela scoops | socoopela  \n",
      "societe cooperative agricole des producteurs de bangolo | societe cooperative simplifiee des producteurs agricole de bangolo | 0.8593 | scoopapb-coop-ca | scoops-aprab \n",
      "societe cooperative agricole de grand bereby       | cooperative des producteurs agricoles de grand bereby | 0.8467 | socoagb    | cpagb      \n",
      "societe cooperative ivoire qualite de juleskro     | societe cooperative simplifie ivoire qualite de juleskro | 0.8456 | scoops iqj | iqj        \n",
      "societe cooperative agricole des producteurs de soubre | societe cooperative agricole de soubre             | 0.8431 | coop-ca caps | scasou-coop-ca \n",
      "societe cooperative agricole des producteurs de san-pedro | entreprise cooperative des producteurs agricoles de san pedro | 0.8426 | socapros coop-ca | ecopas     \n",
      "societe cooperative agricole espoir de lakota      | societe cooperative simplifiee espoir de lakota    | 0.8425 | socael coop-ca | socoopela  \n",
      "societe cooperative agricole de karie              | societe cooperative agricole entente de karie      | 0.8374 | coopaka coop-ca | socopek    \n",
      "societe cooperative des exploitants agricoles du haut- sassandra | societe cooperative des exploitants agricoles des antilopes du haut sassandra | 0.8323 | so.co.exp.a.hs coop-ca | soceadahs  \n",
      "societe cooperative agricole de grabo              | societe cooperative agricole entente de grabo      | 0.8140 | socopag    | scaeg      \n",
      "societe cooperative ivoirienne des producteurs agicoles de cafe - cacao dananguie | societe cooperative ivoirienne des producteurs\n",
      "cafe-cacao dananguie | 0.8084 | cipacca coop ca | cipacca coop-ca \n",
      "societe cooperative agricole de la marahoue        | cooperative agricole la paix de la marahoue        | 0.8062 | scam-ci    | capm       \n",
      "societe cooperative agricole de la marahoue        | cooperative agricole la paix de la marahoue        | 0.8062 | coama coop-ca | capm       \n",
      "societe cooperative agricole de sanwi              | societe cooperative des producteurs agricole du sanwi | 0.8001 | socas coop-ca | coopras    \n",
      "societe cooperative agricole de divo               | cooperative agricole des producteurs de divo       | 0.7964 | scasdi scoops | coopradi   \n",
      "societe cooperative agricole de divo               | cooperative agricole des producteurs de divo       | 0.7964 | coop-ca scoad | coopradi   \n",
      "societe cooperative agricole de divo               | cooperative agricole des producteurs de divo       | 0.7964 | socaed coop-ca | coopradi   \n",
      "societe  cooperative des producteurs agricoles de boua | societe cooperative agricole de boua               | 0.7937 | so.co.boua | scab       \n",
      "cooperative agricole de mahino                     | societe cooperative agricole entente de mahino     | 0.7862 | coama 2    | socoopem coop ca \n",
      "societe cooperative reference de sinfra            | cooperative avec conseil d'administration reference de sinfra | 0.7837 | coop-ca  refsi | caref si   \n",
      "societe cooperative agricole de bonon              | entreprise cooperative agricole de bonon           | 0.7780 | scabo scoops | ecab       \n",
      "societe cooperative agricole de yakasse-attobrou   | societe cooperatives agricole de yakasse attobrou  | 0.7720 | coop-ca cayat | scoops yat \n",
      "societe cooperative agricole des freres unis       | societe cooperative des freres unis de watte       | 0.7698 | scafu scoops | scuw coop-ca \n",
      "societe cooperative agricole akayara de datta      | ste coop agri akayara de datta                     | 0.7687 | coop-ca scoopaad | scoopaad_datta \n",
      "societe cooperative des producteurs de cafe cacao  | societe cooperative des producteurs cafe-cacao de la marahoue | 0.7684 | socopcc scoops | scoops-codema \n",
      "societe cooperative des producteurs de cafe-cacao  | societe cooperative des producteurs cafe-cacao de la marahoue | 0.7684 | cpccd scoops | scoops-codema \n",
      "societe cooperative agricole de gagny carrefour    | societe cooperative agricole de gagny              | 0.7632 | scagc      | coopagagny \n",
      "societe cooperative entente de seguela             | societe cooperative agricole avec conseil d'administration entente de seguela | 0.7610 | coop-ca  es | coop caes  \n",
      "societe cooperative agricole de soubre             | societe cooperative des agriculteurs de soubre     | 0.7600 | scasou     | socags     \n",
      "societe ivoirienne de cafe-cacao                   | societe ivoirienne de commercialisation de cafe et cacao | 0.7566 | sicc scoops | si3c       \n",
      "societe cooperative agricole de mahino 2           | societe cooperative solidarite de mahino           | 0.7494 | coopam     | socosom-coop-ca \n",
      "societe cooperative des exploitants agricoles de san-pedro | entreprise cooperative des producteurs agricoles de san pedro | 0.7479 | scaeasp scoops | ecopas     \n",
      "societe cooperative des agriculteurs de soubre     | societe cooperative des nouveaux agriculteurs de soubre | 0.7475 | socags     | scoopnas   \n",
      "societe cooperative des producteurs agricoles de bangolo | societe cooperative simplifiee des producteurs agricole de bangolo | 0.7472 | scoopaba coop-ca | scoops-aprab \n",
      "societe cooperative des producteurs agricoles de bangolo | societe cooperative simplifiee des producteurs agricole de bangolo | 0.7472 | scoopaba coop-ca | scoops-aprab \n",
      "societe cooperative la source de guitry ii         | societe cooperative agricole source de guitry      | 0.7464 | socopasg ii scoops | scoopasg   \n",
      "societe cooperative des agriculteurs de san-pedro  | entreprise cooperative des producteurs agricoles de san pedro | 0.7388 | casap coop-ca | ecopas     \n",
      "societe cooperative de negoce de lakota            | societe coopperative de negoce de lakota           | 0.7359 | so-co-ne-l scoops | soconel    \n",
      "societe cooperative agricole de bonon              | entreprise cooperative de bonon                    | 0.7335 | scabo scoops | ecodebo    \n",
      "cooperative agricole de mahino                     | societe cooperative solidarite de mahino           | 0.7327 | coama 2    | socosom-coop-ca \n",
      "societe cooperative agricole here de dogbo         | societe cooperative agricole de dogbo              | 0.7321 | scoops schd | socopadogbo \n"
     ]
    }
   ],
   "source": [
    "processed_pairs = processed_pairs.sort_values(by='tf_idf_similarity_name', ascending=False)\n",
    "\n",
    "# Print the results side by side        \n",
    "for i in range(100):\n",
    "    row = processed_pairs.iloc[i]\n",
    "    print(f\"{row['Producer Name_x']:<50} | {row['Producer Name_y']:<50} | {row['tf_idf_similarity_name']:.4f} | {row['Abbreviation Name_x']:<10} | {row['Abbreviation Name_y']:<10} \")\n",
    "\n",
    "with open('data/outputs/tf_idf_similarity_name.txt', 'w') as f:\n",
    "    for i in range(100):\n",
    "        row = processed_pairs.iloc[i]\n",
    "        f.write(f\"{row['Producer Name_x']:<70} | {row['Producer Name_y']:<70} | {row['tf_idf_similarity_name']:.4f} | {row['Abbreviation Name_x']:<10} | {row['Abbreviation Name_y']:<10}\\n\")\n"
   ]
  },
  {
   "cell_type": "code",
   "execution_count": 11,
   "metadata": {},
   "outputs": [
    {
     "data": {
      "image/png": "[encoded data removed]",
      "text/plain": [
       "<Figure size 576x288 with 1 Axes>"
      ]
     },
     "metadata": {
      "needs_background": "light"
     },
     "output_type": "display_data"
    },
    {
     "name": "stdout",
     "output_type": "stream",
     "text": [
      "Percentage of pairs with similarity > 0.85: 0.02%\n"
     ]
    }
   ],
   "source": [
    "similarity_hist(\n",
    "    df=processed_pairs, \n",
    "    column='tf_idf_similarity_name', \n",
    "    title='Distribution of Semantic Similarity Scores Between Second Half of Producer Names', \n",
    "    threshold= 0.85\n",
    ")"
   ]
  },
  {
   "cell_type": "markdown",
   "metadata": {},
   "source": [
    "Looking through the outputs we can tell that the thresholds are not good enough at telling when two names are the same. It's worth building an eval set off of thresholds and testing LLMs."
   ]
  },
  {
   "cell_type": "markdown",
   "metadata": {},
   "source": [
    "## Create Eval Set "
   ]
  },
  {
   "cell_type": "code",
   "execution_count": 12,
   "metadata": {},
   "outputs": [
    {
     "data": {
      "text/html": [
       "<div>\n",
       "<style scoped>\n",
       "    .dataframe tbody tr th:only-of-type {\n",
       "        vertical-align: middle;\n",
       "    }\n",
       "\n",
       "    .dataframe tbody tr th {\n",
       "        vertical-align: top;\n",
       "    }\n",
       "\n",
       "    .dataframe thead th {\n",
       "        text-align: right;\n",
       "    }\n",
       "</style>\n",
       "<table border=\"1\" class=\"dataframe\">\n",
       "  <thead>\n",
       "    <tr style=\"text-align: right;\">\n",
       "      <th></th>\n",
       "      <th>Producer Name_x</th>\n",
       "      <th>Producer Name_y</th>\n",
       "      <th>Abbreviation Name_x</th>\n",
       "      <th>Abbreviation Name_y</th>\n",
       "      <th>classification</th>\n",
       "    </tr>\n",
       "  </thead>\n",
       "  <tbody>\n",
       "    <tr>\n",
       "      <th>4</th>\n",
       "      <td>societe cooperative agricole de kouibly</td>\n",
       "      <td>societe cooperative agricole de kouibly</td>\n",
       "      <td>socak scoops</td>\n",
       "      <td>socas</td>\n",
       "      <td>0</td>\n",
       "    </tr>\n",
       "    <tr>\n",
       "      <th>7</th>\n",
       "      <td>cooperative agricole des producteurs de divo</td>\n",
       "      <td>cooperative agricole des producteurs de divo</td>\n",
       "      <td>coopapd coop-ca</td>\n",
       "      <td>coopradi</td>\n",
       "      <td>0</td>\n",
       "    </tr>\n",
       "    <tr>\n",
       "      <th>31</th>\n",
       "      <td>cooperative agricole des producteurs de divo</td>\n",
       "      <td>cooperative agricole des producteurs de divo</td>\n",
       "      <td>coopapd coop-ca</td>\n",
       "      <td>coopradi</td>\n",
       "      <td>0</td>\n",
       "    </tr>\n",
       "    <tr>\n",
       "      <th>3</th>\n",
       "      <td>societe cooperative agricole de dogbo</td>\n",
       "      <td>societe cooperative agricole de dogbo</td>\n",
       "      <td>socopadogbo  coop-ca</td>\n",
       "      <td>socopadogbo</td>\n",
       "      <td>0</td>\n",
       "    </tr>\n",
       "    <tr>\n",
       "      <th>2</th>\n",
       "      <td>societe cooperative soubreenne des producteurs...</td>\n",
       "      <td>societe cooperative soubreenne des producteurs...</td>\n",
       "      <td>scspa coop ca</td>\n",
       "      <td>scspa</td>\n",
       "      <td>0</td>\n",
       "    </tr>\n",
       "    <tr>\n",
       "      <th>...</th>\n",
       "      <td>...</td>\n",
       "      <td>...</td>\n",
       "      <td>...</td>\n",
       "      <td>...</td>\n",
       "      <td>...</td>\n",
       "    </tr>\n",
       "    <tr>\n",
       "      <th>10387</th>\n",
       "      <td>societe cooperative agricole de youkou</td>\n",
       "      <td>societe cooperative agricole espoir de petit-g...</td>\n",
       "      <td>socayou</td>\n",
       "      <td>scaepgy</td>\n",
       "      <td>0</td>\n",
       "    </tr>\n",
       "    <tr>\n",
       "      <th>1304</th>\n",
       "      <td>societe cooperative des exploitants agricoles ...</td>\n",
       "      <td>societe cooperative agricole de soubre</td>\n",
       "      <td>ceaso scoops</td>\n",
       "      <td>scasou-coop-ca</td>\n",
       "      <td>0</td>\n",
       "    </tr>\n",
       "    <tr>\n",
       "      <th>845</th>\n",
       "      <td>cooperative  agricole la renaissance  de gadouan</td>\n",
       "      <td>cooperative agricole la renaissance de vavoua</td>\n",
       "      <td>carega</td>\n",
       "      <td>careva</td>\n",
       "      <td>0</td>\n",
       "    </tr>\n",
       "    <tr>\n",
       "      <th>844</th>\n",
       "      <td>cooperative  agricole la renaissance  de gadouan</td>\n",
       "      <td>cooperative agricole la renaissance de vavoua</td>\n",
       "      <td>carega</td>\n",
       "      <td>careva</td>\n",
       "      <td>0</td>\n",
       "    </tr>\n",
       "    <tr>\n",
       "      <th>594</th>\n",
       "      <td>societe cooperative des agriculteurs communs  ...</td>\n",
       "      <td>societe cooperative des agriculteurs communs d...</td>\n",
       "      <td>scac coop-ca</td>\n",
       "      <td>scac</td>\n",
       "      <td>0</td>\n",
       "    </tr>\n",
       "  </tbody>\n",
       "</table>\n",
       "<p>324 rows × 5 columns</p>\n",
       "</div>"
      ],
      "text/plain": [
       "                                         Producer Name_x  \\\n",
       "4                societe cooperative agricole de kouibly   \n",
       "7           cooperative agricole des producteurs de divo   \n",
       "31          cooperative agricole des producteurs de divo   \n",
       "3                  societe cooperative agricole de dogbo   \n",
       "2      societe cooperative soubreenne des producteurs...   \n",
       "...                                                  ...   \n",
       "10387             societe cooperative agricole de youkou   \n",
       "1304   societe cooperative des exploitants agricoles ...   \n",
       "845     cooperative  agricole la renaissance  de gadouan   \n",
       "844     cooperative  agricole la renaissance  de gadouan   \n",
       "594    societe cooperative des agriculteurs communs  ...   \n",
       "\n",
       "                                         Producer Name_y  \\\n",
       "4                societe cooperative agricole de kouibly   \n",
       "7           cooperative agricole des producteurs de divo   \n",
       "31          cooperative agricole des producteurs de divo   \n",
       "3                  societe cooperative agricole de dogbo   \n",
       "2      societe cooperative soubreenne des producteurs...   \n",
       "...                                                  ...   \n",
       "10387  societe cooperative agricole espoir de petit-g...   \n",
       "1304              societe cooperative agricole de soubre   \n",
       "845        cooperative agricole la renaissance de vavoua   \n",
       "844        cooperative agricole la renaissance de vavoua   \n",
       "594    societe cooperative des agriculteurs communs d...   \n",
       "\n",
       "        Abbreviation Name_x Abbreviation Name_y  classification  \n",
       "4              socak scoops               socas               0  \n",
       "7           coopapd coop-ca            coopradi               0  \n",
       "31          coopapd coop-ca            coopradi               0  \n",
       "3      socopadogbo  coop-ca         socopadogbo               0  \n",
       "2             scspa coop ca               scspa               0  \n",
       "...                     ...                 ...             ...  \n",
       "10387               socayou             scaepgy               0  \n",
       "1304           ceaso scoops      scasou-coop-ca               0  \n",
       "845                  carega              careva               0  \n",
       "844                  carega              careva               0  \n",
       "594            scac coop-ca                scac               0  \n",
       "\n",
       "[324 rows x 5 columns]"
      ]
     },
     "execution_count": 12,
     "metadata": {},
     "output_type": "execute_result"
    }
   ],
   "source": [
    "def generate_eval_template(\n",
    "    processed_pairs, \n",
    "    metrics=['second_half_weighted_similarity', 'tf_idf_similarity_name'], \n",
    "    output_csv_path='data/outputs/eval_template.csv', \n",
    "    n=100):\n",
    "    \n",
    "    # Find the top n rows ranked by each metric.\n",
    "    top_n = []\n",
    "    for metric in metrics:\n",
    "        # Get the top n rows ranked by metric\n",
    "        top_n.append(processed_pairs.sort_values(by=metric, ascending=False).head(n))\n",
    "    \n",
    "    # Concatenate the DataFrames and drop duplicate rows\n",
    "    combined_top_n = pd.concat(top_n).drop_duplicates()\n",
    "\n",
    "    # Add a column 'classification' and fill it with all 0\n",
    "    combined_top_n['classification'] = 0\n",
    "\n",
    "    # Select only the producer name and abbreviated name columns\n",
    "    result = combined_top_n[['Producer Name_x', 'Producer Name_y', 'Abbreviation Name_x', 'Abbreviation Name_y', 'classification']]\n",
    "    \n",
    "    # Write results to csv\n",
    "    result.to_csv(output_csv_path, index=False)\n",
    "    \n",
    "    return result\n",
    "\n",
    "generate_eval_template(\n",
    "    processed_pairs=processed_pairs,\n",
    "    metrics=['second_half_weighted_similarity', 'tf_idf_similarity_name'], \n",
    "    output_csv_path='data/outputs/eval_template.csv',\n",
    "    n=200\n",
    ")\n",
    "    "
   ]
  },
  {
   "cell_type": "code",
   "execution_count": 13,
   "metadata": {},
   "outputs": [
    {
     "data": {
      "image/png": "[encoded data removed]",
      "text/plain": [
       "<Figure size 720x432 with 1 Axes>"
      ]
     },
     "metadata": {
      "needs_background": "light"
     },
     "output_type": "display_data"
    }
   ],
   "source": [
    "eval_template = pd.read_csv('data/outputs/eval_template.csv')\n",
    "plot_missingness(eval_template, 'Eval Template')"
   ]
  },
  {
   "cell_type": "code",
   "execution_count": null,
   "metadata": {},
   "outputs": [],
   "source": []
  }
 ],
 "metadata": {
  "kernelspec": {
   "display_name": "Python 3 (ipykernel)",
   "language": "python",
   "name": "python3"
  },
  "language_info": {
   "codemirror_mode": {
    "name": "ipython",
    "version": 3
   },
   "file_extension": ".py",
   "mimetype": "text/x-python",
   "name": "python",
   "nbconvert_exporter": "python",
   "pygments_lexer": "ipython3",
   "version": "3.9.5"
  }
 },
 "nbformat": 4,
 "nbformat_minor": 2
}
