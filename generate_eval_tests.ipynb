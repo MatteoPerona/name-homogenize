{
 "cells": [
  {
   "cell_type": "code",
   "execution_count": 1,
   "id": "709e8fb6",
   "metadata": {},
   "outputs": [],
   "source": [
    "import pandas as pd\n",
    "from vis import plot_missingness"
   ]
  },
  {
   "cell_type": "code",
   "execution_count": 2,
   "id": "9460ff05",
   "metadata": {},
   "outputs": [],
   "source": [
    "def cartesian_product(df1, df2, output_csv_path=''):\n",
    "    \"\"\"\n",
    "    Create a dataframe containing all possible combinations of rows from two input dataframes.\n",
    "\n",
    "    Parameters:\n",
    "    df1 (DataFrame): The first dataframe.\n",
    "    df2 (DataFrame): The second dataframe.\n",
    "\n",
    "    Returns:\n",
    "    DataFrame: A dataframe containing all possible combinations of rows from df1 and df2.\n",
    "    \"\"\"\n",
    "    # Add a temporary key to both dataframes to enable Cartesian product via merge\n",
    "    df1['_key'] = 1\n",
    "    df2['_key'] = 1\n",
    "\n",
    "    # Perform a merge to create the Cartesian product\n",
    "    result = pd.merge(df1, df2, on='_key').drop('_key', axis=1)\n",
    "\n",
    "    # Remove the temporary key column\n",
    "    df1.drop('_key', axis=1, inplace=True)\n",
    "    df2.drop('_key', axis=1, inplace=True)\n",
    "\n",
    "    # Output result csv if path given \n",
    "    if output_csv_path != '':\n",
    "        result.to_csv(output_csv_path, index=False)\n",
    "\n",
    "    return result"
   ]
  },
  {
   "cell_type": "code",
   "execution_count": 3,
   "id": "ec539dd8",
   "metadata": {},
   "outputs": [
    {
     "data": {
      "image/png": "[encoded data removed]",
      "text/plain": [
       "<Figure size 720x432 with 1 Axes>"
      ]
     },
     "metadata": {
      "needs_background": "light"
     },
     "output_type": "display_data"
    },
    {
     "data": {
      "image/png": "[encoded data removed]",
      "text/plain": [
       "<Figure size 720x432 with 1 Axes>"
      ]
     },
     "metadata": {
      "needs_background": "light"
     },
     "output_type": "display_data"
    }
   ],
   "source": [
    "producers_1 = pd.read_csv('data/clean/ivorian-cocoa-coop-registry-2017.csv')\n",
    "producers_2 = pd.read_csv('data/clean/cocoa-suppliers-compiled-from-importers.csv')\n",
    "\n",
    "producers_1 = producers_1[['Producer Name', 'Abbreviation Name']]\n",
    "producers_2 = producers_2[['Producer Name', 'Abbreviation Name']]\n",
    "plot_missingness(producers_1, 'producers_1')\n",
    "plot_missingness(producers_2, 'producers_2')"
   ]
  },
  {
   "cell_type": "code",
   "execution_count": 3,
   "id": "1d72114d",
   "metadata": {},
   "outputs": [
    {
     "name": "stdout",
     "output_type": "stream",
     "text": [
      "pairs shape: (1430462, 4)\n",
      "pairs columns: Index(['Producer Name_x', 'Abbreviation Name_x', 'Producer Name_y',\n",
      "       'Abbreviation Name_y'],\n",
      "      dtype='object')\n"
     ]
    },
    {
     "data": {
      "image/png": "[encoded data removed]",
      "text/plain": [
       "<Figure size 720x432 with 1 Axes>"
      ]
     },
     "metadata": {
      "needs_background": "light"
     },
     "output_type": "display_data"
    }
   ],
   "source": [
    "# pairs = cartesian_product(producers_1, producers_2, 'data/outputs/all_pairs.csv')\n",
    "pairs = pd.read_csv('data/outputs/all_pairs.csv')\n",
    "print(f'pairs shape: {pairs.shape}')\n",
    "print(f'pairs columns: {pairs.columns}')\n",
    "plot_missingness(pairs, 'pairs')"
   ]
  },
  {
   "cell_type": "markdown",
   "id": "99f8e50b",
   "metadata": {},
   "source": [
    "## Create Eval Set \n"
   ]
  },
  {
   "cell_type": "code",
   "execution_count": 14,
   "id": "5c33ed34",
   "metadata": {},
   "outputs": [
    {
     "ename": "KeyError",
     "evalue": "\"['Region_x', 'Region_y'] not in index\"",
     "output_type": "error",
     "traceback": [
      "\u001b[0;31m---------------------------------------------------------------------------\u001b[0m",
      "\u001b[0;31mKeyError\u001b[0m                                  Traceback (most recent call last)",
      "\u001b[0;32m/tmp/ipykernel_264/843743097.py\u001b[0m in \u001b[0;36m<module>\u001b[0;34m\u001b[0m\n\u001b[1;32m     36\u001b[0m \u001b[0;34m\u001b[0m\u001b[0m\n\u001b[1;32m     37\u001b[0m \u001b[0mprocessed_pairs\u001b[0m \u001b[0;34m=\u001b[0m \u001b[0mpd\u001b[0m\u001b[0;34m.\u001b[0m\u001b[0mread_csv\u001b[0m\u001b[0;34m(\u001b[0m\u001b[0;34m'data/outputs/pair_similarity.csv'\u001b[0m\u001b[0;34m)\u001b[0m\u001b[0;34m\u001b[0m\u001b[0;34m\u001b[0m\u001b[0m\n\u001b[0;32m---> 38\u001b[0;31m eval_template = generate_eval_template(\n\u001b[0m\u001b[1;32m     39\u001b[0m     \u001b[0mprocessed_pairs\u001b[0m\u001b[0;34m=\u001b[0m\u001b[0mprocessed_pairs\u001b[0m\u001b[0;34m,\u001b[0m\u001b[0;34m\u001b[0m\u001b[0;34m\u001b[0m\u001b[0m\n\u001b[1;32m     40\u001b[0m     \u001b[0mmetrics\u001b[0m\u001b[0;34m=\u001b[0m\u001b[0;34m[\u001b[0m\u001b[0;34m'second_half_weighted_similarity'\u001b[0m\u001b[0;34m,\u001b[0m \u001b[0;34m'tf_idf_similarity_name'\u001b[0m\u001b[0;34m]\u001b[0m\u001b[0;34m,\u001b[0m\u001b[0;34m\u001b[0m\u001b[0;34m\u001b[0m\u001b[0m\n",
      "\u001b[0;32m/tmp/ipykernel_264/843743097.py\u001b[0m in \u001b[0;36mgenerate_eval_template\u001b[0;34m(processed_pairs, metrics, output_csv_path, n)\u001b[0m\n\u001b[1;32m     18\u001b[0m \u001b[0;34m\u001b[0m\u001b[0m\n\u001b[1;32m     19\u001b[0m     \u001b[0;31m# Select only the producer name and abbreviated name columns\u001b[0m\u001b[0;34m\u001b[0m\u001b[0;34m\u001b[0m\u001b[0;34m\u001b[0m\u001b[0m\n\u001b[0;32m---> 20\u001b[0;31m     result = combined_top_n[[\n\u001b[0m\u001b[1;32m     21\u001b[0m         \u001b[0;34m'Producer Name_x'\u001b[0m\u001b[0;34m,\u001b[0m\u001b[0;34m\u001b[0m\u001b[0;34m\u001b[0m\u001b[0m\n\u001b[1;32m     22\u001b[0m         \u001b[0;34m'Producer Name_y'\u001b[0m\u001b[0;34m,\u001b[0m\u001b[0;34m\u001b[0m\u001b[0;34m\u001b[0m\u001b[0m\n",
      "\u001b[0;32m/opt/conda/lib/python3.9/site-packages/pandas/core/frame.py\u001b[0m in \u001b[0;36m__getitem__\u001b[0;34m(self, key)\u001b[0m\n\u001b[1;32m   4094\u001b[0m             \u001b[0;32mif\u001b[0m \u001b[0mis_iterator\u001b[0m\u001b[0;34m(\u001b[0m\u001b[0mkey\u001b[0m\u001b[0;34m)\u001b[0m\u001b[0;34m:\u001b[0m\u001b[0;34m\u001b[0m\u001b[0;34m\u001b[0m\u001b[0m\n\u001b[1;32m   4095\u001b[0m                 \u001b[0mkey\u001b[0m \u001b[0;34m=\u001b[0m \u001b[0mlist\u001b[0m\u001b[0;34m(\u001b[0m\u001b[0mkey\u001b[0m\u001b[0;34m)\u001b[0m\u001b[0;34m\u001b[0m\u001b[0;34m\u001b[0m\u001b[0m\n\u001b[0;32m-> 4096\u001b[0;31m             \u001b[0mindexer\u001b[0m \u001b[0;34m=\u001b[0m \u001b[0mself\u001b[0m\u001b[0;34m.\u001b[0m\u001b[0mcolumns\u001b[0m\u001b[0;34m.\u001b[0m\u001b[0m_get_indexer_strict\u001b[0m\u001b[0;34m(\u001b[0m\u001b[0mkey\u001b[0m\u001b[0;34m,\u001b[0m \u001b[0;34m\"columns\"\u001b[0m\u001b[0;34m)\u001b[0m\u001b[0;34m[\u001b[0m\u001b[0;36m1\u001b[0m\u001b[0;34m]\u001b[0m\u001b[0;34m\u001b[0m\u001b[0;34m\u001b[0m\u001b[0m\n\u001b[0m\u001b[1;32m   4097\u001b[0m \u001b[0;34m\u001b[0m\u001b[0m\n\u001b[1;32m   4098\u001b[0m         \u001b[0;31m# take() does not accept boolean indexers\u001b[0m\u001b[0;34m\u001b[0m\u001b[0;34m\u001b[0m\u001b[0;34m\u001b[0m\u001b[0m\n",
      "\u001b[0;32m/opt/conda/lib/python3.9/site-packages/pandas/core/indexes/base.py\u001b[0m in \u001b[0;36m_get_indexer_strict\u001b[0;34m(self, key, axis_name)\u001b[0m\n\u001b[1;32m   6197\u001b[0m             \u001b[0mkeyarr\u001b[0m\u001b[0;34m,\u001b[0m \u001b[0mindexer\u001b[0m\u001b[0;34m,\u001b[0m \u001b[0mnew_indexer\u001b[0m \u001b[0;34m=\u001b[0m \u001b[0mself\u001b[0m\u001b[0;34m.\u001b[0m\u001b[0m_reindex_non_unique\u001b[0m\u001b[0;34m(\u001b[0m\u001b[0mkeyarr\u001b[0m\u001b[0;34m)\u001b[0m\u001b[0;34m\u001b[0m\u001b[0;34m\u001b[0m\u001b[0m\n\u001b[1;32m   6198\u001b[0m \u001b[0;34m\u001b[0m\u001b[0m\n\u001b[0;32m-> 6199\u001b[0;31m         \u001b[0mself\u001b[0m\u001b[0;34m.\u001b[0m\u001b[0m_raise_if_missing\u001b[0m\u001b[0;34m(\u001b[0m\u001b[0mkeyarr\u001b[0m\u001b[0;34m,\u001b[0m \u001b[0mindexer\u001b[0m\u001b[0;34m,\u001b[0m \u001b[0maxis_name\u001b[0m\u001b[0;34m)\u001b[0m\u001b[0;34m\u001b[0m\u001b[0;34m\u001b[0m\u001b[0m\n\u001b[0m\u001b[1;32m   6200\u001b[0m \u001b[0;34m\u001b[0m\u001b[0m\n\u001b[1;32m   6201\u001b[0m         \u001b[0mkeyarr\u001b[0m \u001b[0;34m=\u001b[0m \u001b[0mself\u001b[0m\u001b[0;34m.\u001b[0m\u001b[0mtake\u001b[0m\u001b[0;34m(\u001b[0m\u001b[0mindexer\u001b[0m\u001b[0;34m)\u001b[0m\u001b[0;34m\u001b[0m\u001b[0;34m\u001b[0m\u001b[0m\n",
      "\u001b[0;32m/opt/conda/lib/python3.9/site-packages/pandas/core/indexes/base.py\u001b[0m in \u001b[0;36m_raise_if_missing\u001b[0;34m(self, key, indexer, axis_name)\u001b[0m\n\u001b[1;32m   6249\u001b[0m \u001b[0;34m\u001b[0m\u001b[0m\n\u001b[1;32m   6250\u001b[0m             \u001b[0mnot_found\u001b[0m \u001b[0;34m=\u001b[0m \u001b[0mlist\u001b[0m\u001b[0;34m(\u001b[0m\u001b[0mensure_index\u001b[0m\u001b[0;34m(\u001b[0m\u001b[0mkey\u001b[0m\u001b[0;34m)\u001b[0m\u001b[0;34m[\u001b[0m\u001b[0mmissing_mask\u001b[0m\u001b[0;34m.\u001b[0m\u001b[0mnonzero\u001b[0m\u001b[0;34m(\u001b[0m\u001b[0;34m)\u001b[0m\u001b[0;34m[\u001b[0m\u001b[0;36m0\u001b[0m\u001b[0;34m]\u001b[0m\u001b[0;34m]\u001b[0m\u001b[0;34m.\u001b[0m\u001b[0munique\u001b[0m\u001b[0;34m(\u001b[0m\u001b[0;34m)\u001b[0m\u001b[0;34m)\u001b[0m\u001b[0;34m\u001b[0m\u001b[0;34m\u001b[0m\u001b[0m\n\u001b[0;32m-> 6251\u001b[0;31m             \u001b[0;32mraise\u001b[0m \u001b[0mKeyError\u001b[0m\u001b[0;34m(\u001b[0m\u001b[0;34mf\"{not_found} not in index\"\u001b[0m\u001b[0;34m)\u001b[0m\u001b[0;34m\u001b[0m\u001b[0;34m\u001b[0m\u001b[0m\n\u001b[0m\u001b[1;32m   6252\u001b[0m \u001b[0;34m\u001b[0m\u001b[0m\n\u001b[1;32m   6253\u001b[0m     \u001b[0;34m@\u001b[0m\u001b[0moverload\u001b[0m\u001b[0;34m\u001b[0m\u001b[0;34m\u001b[0m\u001b[0m\n",
      "\u001b[0;31mKeyError\u001b[0m: \"['Region_x', 'Region_y'] not in index\""
     ]
    }
   ],
   "source": [
    "def generate_eval_template(\n",
    "    processed_pairs, \n",
    "    metrics=['second_half_weighted_similarity', 'tf_idf_similarity_name'], \n",
    "    output_csv_path='data/outputs/eval_template.csv', \n",
    "    n=100):\n",
    "    \n",
    "    # Find the top n rows ranked by each metric.\n",
    "    top_n = []\n",
    "    for metric in metrics:\n",
    "        # Get the top n rows ranked by metric\n",
    "        top_n.append(processed_pairs.sort_values(by=metric, ascending=False).head(n))\n",
    "        \n",
    "    # Concatenate the DataFrames and drop duplicate rows\n",
    "    combined_top_n = pd.concat(top_n)\n",
    "    \n",
    "    # Add a column 'classification' and fill it with all 0\n",
    "    combined_top_n['classification'] = 0\n",
    "    \n",
    "    # Select only the producer name and abbreviated name columns\n",
    "    result = combined_top_n[[\n",
    "        'Producer Name_x', \n",
    "        'Producer Name_y', \n",
    "        'Abbreviation Name_x', \n",
    "        'Abbreviation Name_y',\n",
    "        'Region_x',\n",
    "        'Region_y',\n",
    "        'classification'\n",
    "    ]]\n",
    "    \n",
    "    result = result.drop_duplicates()\n",
    "    \n",
    "    # Write results to csv\n",
    "    result.to_csv(output_csv_path, index=False)\n",
    "    \n",
    "    return result\n",
    "\n",
    "processed_pairs = pd.read_csv('data/outputs/pair_similarity.csv')\n",
    "eval_template = generate_eval_template(\n",
    "    processed_pairs=processed_pairs,\n",
    "    metrics=['second_half_weighted_similarity', 'tf_idf_similarity_name'], \n",
    "    output_csv_path='data/outputs/eval_template.csv',\n",
    "    n=200\n",
    ")\n",
    "\n",
    "eval_template   "
   ]
  },
  {
   "cell_type": "code",
   "execution_count": 12,
   "id": "a801fc5c",
   "metadata": {},
   "outputs": [
    {
     "data": {
      "text/html": [
       "<div>\n",
       "<style scoped>\n",
       "    .dataframe tbody tr th:only-of-type {\n",
       "        vertical-align: middle;\n",
       "    }\n",
       "\n",
       "    .dataframe tbody tr th {\n",
       "        vertical-align: top;\n",
       "    }\n",
       "\n",
       "    .dataframe thead th {\n",
       "        text-align: right;\n",
       "    }\n",
       "</style>\n",
       "<table border=\"1\" class=\"dataframe\">\n",
       "  <thead>\n",
       "    <tr style=\"text-align: right;\">\n",
       "      <th></th>\n",
       "      <th>Producer Name_x</th>\n",
       "      <th>Producer Name_y</th>\n",
       "      <th>Abbreviation Name_x</th>\n",
       "      <th>Abbreviation Name_y</th>\n",
       "      <th>classification</th>\n",
       "    </tr>\n",
       "  </thead>\n",
       "  <tbody>\n",
       "    <tr>\n",
       "      <th>0</th>\n",
       "      <td>societe cooperative agricole de guitry</td>\n",
       "      <td>societe cooperative agricole de guitry</td>\n",
       "      <td>coop-ca socoagui</td>\n",
       "      <td>coop-ca-socoagui</td>\n",
       "      <td>0</td>\n",
       "    </tr>\n",
       "    <tr>\n",
       "      <th>1</th>\n",
       "      <td>societe cooperative agricole de guitry</td>\n",
       "      <td>societe cooperative agricole de guitry</td>\n",
       "      <td>coop-ca socoopgui</td>\n",
       "      <td>coop-ca-socoagui</td>\n",
       "      <td>0</td>\n",
       "    </tr>\n",
       "    <tr>\n",
       "      <th>2</th>\n",
       "      <td>societe cooperative agricole de guitry</td>\n",
       "      <td>societe cooperative agricole de guitry</td>\n",
       "      <td>socoopag coop-ca</td>\n",
       "      <td>coop-ca-socoagui</td>\n",
       "      <td>0</td>\n",
       "    </tr>\n",
       "    <tr>\n",
       "      <th>3</th>\n",
       "      <td>cooperative agricole siboulaka de beoua</td>\n",
       "      <td>cooperative agricole siboulaka de beoua</td>\n",
       "      <td>c.asi.b scoops</td>\n",
       "      <td>casib-scoops</td>\n",
       "      <td>0</td>\n",
       "    </tr>\n",
       "    <tr>\n",
       "      <th>4</th>\n",
       "      <td>societe cooperative agricole de bayota</td>\n",
       "      <td>societe cooperative agricole de bayota</td>\n",
       "      <td>socaba coop-ca</td>\n",
       "      <td>socaba</td>\n",
       "      <td>0</td>\n",
       "    </tr>\n",
       "    <tr>\n",
       "      <th>...</th>\n",
       "      <td>...</td>\n",
       "      <td>...</td>\n",
       "      <td>...</td>\n",
       "      <td>...</td>\n",
       "      <td>...</td>\n",
       "    </tr>\n",
       "    <tr>\n",
       "      <th>300</th>\n",
       "      <td>societe cooperative de meagui</td>\n",
       "      <td>societe cooperative agricole bekanti de meagui</td>\n",
       "      <td>scoops socom</td>\n",
       "      <td>cabm</td>\n",
       "      <td>0</td>\n",
       "    </tr>\n",
       "    <tr>\n",
       "      <th>301</th>\n",
       "      <td>societe cooperative agricole de youkou</td>\n",
       "      <td>societe cooperative agricole espoir de petit-g...</td>\n",
       "      <td>socayou</td>\n",
       "      <td>scaepgy</td>\n",
       "      <td>0</td>\n",
       "    </tr>\n",
       "    <tr>\n",
       "      <th>302</th>\n",
       "      <td>societe cooperative des exploitants agricoles ...</td>\n",
       "      <td>societe cooperative agricole de soubre</td>\n",
       "      <td>ceaso scoops</td>\n",
       "      <td>scasou-coop-ca</td>\n",
       "      <td>0</td>\n",
       "    </tr>\n",
       "    <tr>\n",
       "      <th>303</th>\n",
       "      <td>cooperative  agricole la renaissance  de gadouan</td>\n",
       "      <td>cooperative agricole la renaissance de vavoua</td>\n",
       "      <td>carega</td>\n",
       "      <td>careva</td>\n",
       "      <td>0</td>\n",
       "    </tr>\n",
       "    <tr>\n",
       "      <th>304</th>\n",
       "      <td>societe cooperative des agriculteurs communs  ...</td>\n",
       "      <td>societe cooperative des agriculteurs communs d...</td>\n",
       "      <td>scac coop-ca</td>\n",
       "      <td>scac</td>\n",
       "      <td>0</td>\n",
       "    </tr>\n",
       "  </tbody>\n",
       "</table>\n",
       "<p>305 rows × 5 columns</p>\n",
       "</div>"
      ],
      "text/plain": [
       "                                       Producer Name_x  \\\n",
       "0               societe cooperative agricole de guitry   \n",
       "1               societe cooperative agricole de guitry   \n",
       "2               societe cooperative agricole de guitry   \n",
       "3              cooperative agricole siboulaka de beoua   \n",
       "4               societe cooperative agricole de bayota   \n",
       "..                                                 ...   \n",
       "300                      societe cooperative de meagui   \n",
       "301             societe cooperative agricole de youkou   \n",
       "302  societe cooperative des exploitants agricoles ...   \n",
       "303   cooperative  agricole la renaissance  de gadouan   \n",
       "304  societe cooperative des agriculteurs communs  ...   \n",
       "\n",
       "                                       Producer Name_y Abbreviation Name_x  \\\n",
       "0               societe cooperative agricole de guitry    coop-ca socoagui   \n",
       "1               societe cooperative agricole de guitry   coop-ca socoopgui   \n",
       "2               societe cooperative agricole de guitry    socoopag coop-ca   \n",
       "3              cooperative agricole siboulaka de beoua      c.asi.b scoops   \n",
       "4               societe cooperative agricole de bayota      socaba coop-ca   \n",
       "..                                                 ...                 ...   \n",
       "300     societe cooperative agricole bekanti de meagui        scoops socom   \n",
       "301  societe cooperative agricole espoir de petit-g...             socayou   \n",
       "302             societe cooperative agricole de soubre        ceaso scoops   \n",
       "303      cooperative agricole la renaissance de vavoua              carega   \n",
       "304  societe cooperative des agriculteurs communs d...        scac coop-ca   \n",
       "\n",
       "    Abbreviation Name_y  classification  \n",
       "0      coop-ca-socoagui               0  \n",
       "1      coop-ca-socoagui               0  \n",
       "2      coop-ca-socoagui               0  \n",
       "3          casib-scoops               0  \n",
       "4                socaba               0  \n",
       "..                  ...             ...  \n",
       "300                cabm               0  \n",
       "301             scaepgy               0  \n",
       "302      scasou-coop-ca               0  \n",
       "303              careva               0  \n",
       "304                scac               0  \n",
       "\n",
       "[305 rows x 5 columns]"
      ]
     },
     "execution_count": 12,
     "metadata": {},
     "output_type": "execute_result"
    }
   ],
   "source": [
    "eval_template = pd.read_csv('data/outputs/eval_template.csv')\n",
    "eval_template"
   ]
  },
  {
   "cell_type": "code",
   "execution_count": null,
   "id": "8771ba16",
   "metadata": {},
   "outputs": [],
   "source": []
  }
 ],
 "metadata": {
  "kernelspec": {
   "display_name": "Python 3 (ipykernel)",
   "language": "python",
   "name": "python3"
  },
  "language_info": {
   "codemirror_mode": {
    "name": "ipython",
    "version": 3
   },
   "file_extension": ".py",
   "mimetype": "text/x-python",
   "name": "python",
   "nbconvert_exporter": "python",
   "pygments_lexer": "ipython3",
   "version": "3.9.5"
  }
 },
 "nbformat": 4,
 "nbformat_minor": 5
}
